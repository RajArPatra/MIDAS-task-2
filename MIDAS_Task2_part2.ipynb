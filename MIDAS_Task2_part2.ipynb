{
  "nbformat": 4,
  "nbformat_minor": 0,
  "metadata": {
    "accelerator": "GPU",
    "colab": {
      "name": "MIDAS Task2 part2.ipynb",
      "provenance": [],
      "collapsed_sections": [],
      "toc_visible": true,
      "include_colab_link": true
    },
    "kernelspec": {
      "display_name": "Python 3",
      "name": "python3"
    },
    "language_info": {
      "name": "python"
    },
    "widgets": {
      "application/vnd.jupyter.widget-state+json": {
        "fbfec512906d4f9a96af8065224f0940": {
          "model_module": "@jupyter-widgets/controls",
          "model_name": "HBoxModel",
          "state": {
            "_view_name": "HBoxView",
            "_dom_classes": [],
            "_model_name": "HBoxModel",
            "_view_module": "@jupyter-widgets/controls",
            "_model_module_version": "1.5.0",
            "_view_count": null,
            "_view_module_version": "1.5.0",
            "box_style": "",
            "layout": "IPY_MODEL_9963270d7eb246f987f3900dd2fad7be",
            "_model_module": "@jupyter-widgets/controls",
            "children": [
              "IPY_MODEL_053691688e5f4d40ab59849efb55c9ab",
              "IPY_MODEL_005333c9488f4150ac93b285e626e2c1"
            ]
          }
        },
        "9963270d7eb246f987f3900dd2fad7be": {
          "model_module": "@jupyter-widgets/base",
          "model_name": "LayoutModel",
          "state": {
            "_view_name": "LayoutView",
            "grid_template_rows": null,
            "right": null,
            "justify_content": null,
            "_view_module": "@jupyter-widgets/base",
            "overflow": null,
            "_model_module_version": "1.2.0",
            "_view_count": null,
            "flex_flow": null,
            "width": null,
            "min_width": null,
            "border": null,
            "align_items": null,
            "bottom": null,
            "_model_module": "@jupyter-widgets/base",
            "top": null,
            "grid_column": null,
            "overflow_y": null,
            "overflow_x": null,
            "grid_auto_flow": null,
            "grid_area": null,
            "grid_template_columns": null,
            "flex": null,
            "_model_name": "LayoutModel",
            "justify_items": null,
            "grid_row": null,
            "max_height": null,
            "align_content": null,
            "visibility": null,
            "align_self": null,
            "height": null,
            "min_height": null,
            "padding": null,
            "grid_auto_rows": null,
            "grid_gap": null,
            "max_width": null,
            "order": null,
            "_view_module_version": "1.2.0",
            "grid_template_areas": null,
            "object_position": null,
            "object_fit": null,
            "grid_auto_columns": null,
            "margin": null,
            "display": null,
            "left": null
          }
        },
        "053691688e5f4d40ab59849efb55c9ab": {
          "model_module": "@jupyter-widgets/controls",
          "model_name": "FloatProgressModel",
          "state": {
            "_view_name": "ProgressView",
            "style": "IPY_MODEL_b8fa677ad3b1489f84de660e93cdc4f8",
            "_dom_classes": [],
            "description": "",
            "_model_name": "FloatProgressModel",
            "bar_style": "success",
            "max": 9912422,
            "_view_module": "@jupyter-widgets/controls",
            "_model_module_version": "1.5.0",
            "value": 9912422,
            "_view_count": null,
            "_view_module_version": "1.5.0",
            "orientation": "horizontal",
            "min": 0,
            "description_tooltip": null,
            "_model_module": "@jupyter-widgets/controls",
            "layout": "IPY_MODEL_c382f6592bf94933b6aa0f5af3701398"
          }
        },
        "005333c9488f4150ac93b285e626e2c1": {
          "model_module": "@jupyter-widgets/controls",
          "model_name": "HTMLModel",
          "state": {
            "_view_name": "HTMLView",
            "style": "IPY_MODEL_e628aba2ef1444e8a5d76badeb811cd3",
            "_dom_classes": [],
            "description": "",
            "_model_name": "HTMLModel",
            "placeholder": "​",
            "_view_module": "@jupyter-widgets/controls",
            "_model_module_version": "1.5.0",
            "value": " 9913344/? [05:49&lt;00:00, 28349.08it/s]",
            "_view_count": null,
            "_view_module_version": "1.5.0",
            "description_tooltip": null,
            "_model_module": "@jupyter-widgets/controls",
            "layout": "IPY_MODEL_54ee23eb4344462c8688ac0d83b0a868"
          }
        },
        "b8fa677ad3b1489f84de660e93cdc4f8": {
          "model_module": "@jupyter-widgets/controls",
          "model_name": "ProgressStyleModel",
          "state": {
            "_view_name": "StyleView",
            "_model_name": "ProgressStyleModel",
            "description_width": "initial",
            "_view_module": "@jupyter-widgets/base",
            "_model_module_version": "1.5.0",
            "_view_count": null,
            "_view_module_version": "1.2.0",
            "bar_color": null,
            "_model_module": "@jupyter-widgets/controls"
          }
        },
        "c382f6592bf94933b6aa0f5af3701398": {
          "model_module": "@jupyter-widgets/base",
          "model_name": "LayoutModel",
          "state": {
            "_view_name": "LayoutView",
            "grid_template_rows": null,
            "right": null,
            "justify_content": null,
            "_view_module": "@jupyter-widgets/base",
            "overflow": null,
            "_model_module_version": "1.2.0",
            "_view_count": null,
            "flex_flow": null,
            "width": null,
            "min_width": null,
            "border": null,
            "align_items": null,
            "bottom": null,
            "_model_module": "@jupyter-widgets/base",
            "top": null,
            "grid_column": null,
            "overflow_y": null,
            "overflow_x": null,
            "grid_auto_flow": null,
            "grid_area": null,
            "grid_template_columns": null,
            "flex": null,
            "_model_name": "LayoutModel",
            "justify_items": null,
            "grid_row": null,
            "max_height": null,
            "align_content": null,
            "visibility": null,
            "align_self": null,
            "height": null,
            "min_height": null,
            "padding": null,
            "grid_auto_rows": null,
            "grid_gap": null,
            "max_width": null,
            "order": null,
            "_view_module_version": "1.2.0",
            "grid_template_areas": null,
            "object_position": null,
            "object_fit": null,
            "grid_auto_columns": null,
            "margin": null,
            "display": null,
            "left": null
          }
        },
        "e628aba2ef1444e8a5d76badeb811cd3": {
          "model_module": "@jupyter-widgets/controls",
          "model_name": "DescriptionStyleModel",
          "state": {
            "_view_name": "StyleView",
            "_model_name": "DescriptionStyleModel",
            "description_width": "",
            "_view_module": "@jupyter-widgets/base",
            "_model_module_version": "1.5.0",
            "_view_count": null,
            "_view_module_version": "1.2.0",
            "_model_module": "@jupyter-widgets/controls"
          }
        },
        "54ee23eb4344462c8688ac0d83b0a868": {
          "model_module": "@jupyter-widgets/base",
          "model_name": "LayoutModel",
          "state": {
            "_view_name": "LayoutView",
            "grid_template_rows": null,
            "right": null,
            "justify_content": null,
            "_view_module": "@jupyter-widgets/base",
            "overflow": null,
            "_model_module_version": "1.2.0",
            "_view_count": null,
            "flex_flow": null,
            "width": null,
            "min_width": null,
            "border": null,
            "align_items": null,
            "bottom": null,
            "_model_module": "@jupyter-widgets/base",
            "top": null,
            "grid_column": null,
            "overflow_y": null,
            "overflow_x": null,
            "grid_auto_flow": null,
            "grid_area": null,
            "grid_template_columns": null,
            "flex": null,
            "_model_name": "LayoutModel",
            "justify_items": null,
            "grid_row": null,
            "max_height": null,
            "align_content": null,
            "visibility": null,
            "align_self": null,
            "height": null,
            "min_height": null,
            "padding": null,
            "grid_auto_rows": null,
            "grid_gap": null,
            "max_width": null,
            "order": null,
            "_view_module_version": "1.2.0",
            "grid_template_areas": null,
            "object_position": null,
            "object_fit": null,
            "grid_auto_columns": null,
            "margin": null,
            "display": null,
            "left": null
          }
        },
        "50787225ee784c23b0babf676add4b0e": {
          "model_module": "@jupyter-widgets/controls",
          "model_name": "HBoxModel",
          "state": {
            "_view_name": "HBoxView",
            "_dom_classes": [],
            "_model_name": "HBoxModel",
            "_view_module": "@jupyter-widgets/controls",
            "_model_module_version": "1.5.0",
            "_view_count": null,
            "_view_module_version": "1.5.0",
            "box_style": "",
            "layout": "IPY_MODEL_e7a5fe883ce24b40bc93511bf64f7fdb",
            "_model_module": "@jupyter-widgets/controls",
            "children": [
              "IPY_MODEL_570aa3e1e3e641129970575c93962d2b",
              "IPY_MODEL_05bdc86c0db24b65b94e1ea23eaf279e"
            ]
          }
        }
      }
    }
  },
  "cells": [
    {
      "cell_type": "markdown",
      "metadata": {
        "id": "view-in-github",
        "colab_type": "text"
      },
      "source": [
        "<a href=\"https://colab.research.google.com/github/RajArPatra/MIDAS-task-2/blob/main/MIDAS_Task2_part2.ipynb\" target=\"_parent\"><img src=\"https://colab.research.google.com/assets/colab-badge.svg\" alt=\"Open In Colab\"/></a>"
      ]
    },
    {
      "cell_type": "markdown",
      "metadata": {
        "id": "An-k_H6yfS9Z"
      },
      "source": [
        "Mount Drive"
      ]
    },
    {
      "cell_type": "code",
      "metadata": {
        "colab": {
          "base_uri": "https://localhost:8080/"
        },
        "id": "0xmUPMUxfOf5",
        "outputId": "43bf709a-b67d-498d-b11e-2143f96d3909"
      },
      "source": [
        "from google.colab import drive\n",
        "drive.mount('/content/drive')"
      ],
      "execution_count": null,
      "outputs": [
        {
          "output_type": "stream",
          "text": [
            "Mounted at /content/drive\n"
          ],
          "name": "stdout"
        }
      ]
    },
    {
      "cell_type": "markdown",
      "metadata": {
        "id": "hh4EDD8HwtgE"
      },
      "source": [
        "Libraries"
      ]
    },
    {
      "cell_type": "code",
      "metadata": {
        "id": "Xr6gd8XwWVwN"
      },
      "source": [
        "from sklearn.preprocessing import StandardScaler,MinMaxScaler\n",
        "import pandas as pd\n",
        "import torchvision\n",
        "import os\n",
        "import numpy as np\n",
        "from skimage import io,transform as ts\n",
        "import torch\n",
        "from torchvision import transforms\n",
        "from torch.utils.data import Dataset\n",
        "import torch\n",
        "import torch.nn as nn\n",
        "import torch.nn.functional as F\n",
        "from PIL import Image\n",
        "import imgaug as ia\n",
        "import imgaug.augmenters as iaa\n",
        "from sklearn.decomposition import PCA\n",
        "from sklearn.manifold import TSNE\n",
        "import matplotlib.pyplot as plt\n",
        "\n",
        "from torch.autograd import Variable\n",
        "import distutils\n",
        "from distutils import dir_util\n",
        "from torch.utils.data.sampler import SubsetRandomSampler"
      ],
      "execution_count": null,
      "outputs": []
    },
    {
      "cell_type": "code",
      "metadata": {
        "id": "AfrOUNLvWYoK"
      },
      "source": [
        "from torch.utils.tensorboard import SummaryWriter\n",
        "writer = SummaryWriter()"
      ],
      "execution_count": null,
      "outputs": []
    },
    {
      "cell_type": "markdown",
      "metadata": {
        "id": "BDEI9khXBW_s"
      },
      "source": [
        "GPU selection"
      ]
    },
    {
      "cell_type": "code",
      "metadata": {
        "colab": {
          "base_uri": "https://localhost:8080/",
          "height": 35
        },
        "id": "4yIk4-a_A9sH",
        "outputId": "1ffbaeec-7a84-41df-9151-f51ffd79a6a4"
      },
      "source": [
        "if torch.cuda.is_available():\n",
        "  device='cuda'\n",
        "else :\n",
        "   device='cpu'\n",
        "device"
      ],
      "execution_count": null,
      "outputs": [
        {
          "output_type": "execute_result",
          "data": {
            "application/vnd.google.colaboratory.intrinsic+json": {
              "type": "string"
            },
            "text/plain": [
              "'cuda'"
            ]
          },
          "metadata": {
            "tags": []
          },
          "execution_count": 3
        }
      ]
    },
    {
      "cell_type": "markdown",
      "metadata": {
        "id": "iUcnyVxbPpVc"
      },
      "source": [
        "# DATASET AND DATALOADER"
      ]
    },
    {
      "cell_type": "markdown",
      "metadata": {
        "id": "qkZQfSrVJ-_8"
      },
      "source": [
        "MNIST Dataloader"
      ]
    },
    {
      "cell_type": "code",
      "metadata": {
        "id": "eeL94XWnKDQb",
        "colab": {
          "base_uri": "https://localhost:8080/",
          "height": 168,
          "referenced_widgets": [
            "fbfec512906d4f9a96af8065224f0940",
            "9963270d7eb246f987f3900dd2fad7be",
            "053691688e5f4d40ab59849efb55c9ab",
            "005333c9488f4150ac93b285e626e2c1",
            "b8fa677ad3b1489f84de660e93cdc4f8",
            "c382f6592bf94933b6aa0f5af3701398",
            "e628aba2ef1444e8a5d76badeb811cd3",
            "54ee23eb4344462c8688ac0d83b0a868",
            "50787225ee784c23b0babf676add4b0e",
            "e7a5fe883ce24b40bc93511bf64f7fdb",
            "570aa3e1e3e641129970575c93962d2b",
            "05bdc86c0db24b65b94e1ea23eaf279e",
            "e62cd1bf1c454e5d9958899f76910008",
            "59bc6cfb74634804b383d0b23f2ff40d"
          ]
        },
        "outputId": "89f0aca0-2720-47e8-fc35-23f09aa5bc7d"
      },
      "source": [
        "batch_size = 16\n",
        "train_loader = torch.utils.data.DataLoader(\n",
        "  torchvision.datasets.MNIST('/files/', train=True, download=True,\n",
        "                             transform=torchvision.transforms.Compose([\n",
        "                               torchvision.transforms.ToTensor(),\n",
        "                               torchvision.transforms.Normalize(\n",
        "                                 (0.1307,), (0.3081,))\n",
        "                             ])),\n",
        "  batch_size=batch_size, shuffle=True)\n",
        "\n",
        "test_loader = torch.utils.data.DataLoader(\n",
        "  torchvision.datasets.MNIST('/files/', train=False, download=True,\n",
        "                             transform=torchvision.transforms.Compose([\n",
        "                               torchvision.transforms.ToTensor(),\n",
        "                               torchvision.transforms.Normalize(\n",
        "                                 (0.1307,), (0.3081,))\n",
        "                             ])),\n",
        "  batch_size=batch_size, shuffle=True)"
      ],
      "execution_count": null,
      "outputs": [
        {
          "output_type": "stream",
          "text": [
            "Downloading http://yann.lecun.com/exdb/mnist/train-images-idx3-ubyte.gz\n",
            "Downloading http://yann.lecun.com/exdb/mnist/train-images-idx3-ubyte.gz to /files/MNIST/raw/train-images-idx3-ubyte.gz\n"
          ],
          "name": "stdout"
        },
        {
          "output_type": "display_data",
          "data": {
            "application/vnd.jupyter.widget-view+json": {
              "model_id": "fbfec512906d4f9a96af8065224f0940",
              "version_minor": 0,
              "version_major": 2
            },
            "text/plain": [
              "HBox(children=(FloatProgress(value=0.0, max=9912422.0), HTML(value='')))"
            ]
          },
          "metadata": {
            "tags": []
          }
        },
        {
          "output_type": "stream",
          "text": [
            "\n",
            "Extracting /files/MNIST/raw/train-images-idx3-ubyte.gz to /files/MNIST/raw\n",
            "\n",
            "Downloading http://yann.lecun.com/exdb/mnist/train-labels-idx1-ubyte.gz\n",
            "Downloading http://yann.lecun.com/exdb/mnist/train-labels-idx1-ubyte.gz to /files/MNIST/raw/train-labels-idx1-ubyte.gz\n"
          ],
          "name": "stdout"
        },
        {
          "output_type": "display_data",
          "data": {
            "application/vnd.jupyter.widget-view+json": {
              "model_id": "50787225ee784c23b0babf676add4b0e",
              "version_minor": 0,
              "version_major": 2
            },
            "text/plain": [
              "HBox(children=(FloatProgress(value=0.0, max=28881.0), HTML(value='')))"
            ]
          },
          "metadata": {
            "tags": []
          }
        },
        {
          "output_type": "stream",
          "text": [
            "\n",
            "Extracting /files/MNIST/raw/train-labels-idx1-ubyte.gz to /files/MNIST/raw\n",
            "\n",
            "Downloading http://yann.lecun.com/exdb/mnist/t10k-images-idx3-ubyte.gz\n",
            "Downloading http://yann.lecun.com/exdb/mnist/t10k-images-idx3-ubyte.gz to /files/MNIST/raw/t10k-images-idx3-ubyte.gz\n"
          ],
          "name": "stdout"
        },
        {
          "output_type": "display_data",
          "data": {
            "application/vnd.jupyter.widget-view+json": {
              "model_id": "e62cd1bf1c454e5d9958899f76910008",
              "version_minor": 0,
              "version_major": 2
            },
            "text/plain": [
              "HBox(children=(FloatProgress(value=0.0, max=1648877.0), HTML(value='')))"
            ]
          },
          "metadata": {
            "tags": []
          }
        },
        {
          "output_type": "stream",
          "text": [
            "\n",
            "Extracting /files/MNIST/raw/t10k-images-idx3-ubyte.gz to /files/MNIST/raw\n",
            "\n",
            "Downloading http://yann.lecun.com/exdb/mnist/t10k-labels-idx1-ubyte.gz\n",
            "Downloading http://yann.lecun.com/exdb/mnist/t10k-labels-idx1-ubyte.gz to /files/MNIST/raw/t10k-labels-idx1-ubyte.gz\n",
            "Failed to download (trying next):\n",
            "HTTP Error 503: Service Unavailable\n",
            "\n",
            "Downloading https://ossci-datasets.s3.amazonaws.com/mnist/t10k-labels-idx1-ubyte.gz\n",
            "Downloading https://ossci-datasets.s3.amazonaws.com/mnist/t10k-labels-idx1-ubyte.gz to /files/MNIST/raw/t10k-labels-idx1-ubyte.gz\n"
          ],
          "name": "stdout"
        },
        {
          "output_type": "display_data",
          "data": {
            "application/vnd.jupyter.widget-view+json": {
              "model_id": "59bc6cfb74634804b383d0b23f2ff40d",
              "version_minor": 0,
              "version_major": 2
            },
            "text/plain": [
              "HBox(children=(FloatProgress(value=0.0, max=4542.0), HTML(value='')))"
            ]
          },
          "metadata": {
            "tags": []
          }
        },
        {
          "output_type": "stream",
          "text": [
            "\n",
            "Extracting /files/MNIST/raw/t10k-labels-idx1-ubyte.gz to /files/MNIST/raw\n",
            "\n",
            "Processing...\n",
            "Done!\n"
          ],
          "name": "stdout"
        },
        {
          "output_type": "stream",
          "text": [
            "/usr/local/lib/python3.7/dist-packages/torchvision/datasets/mnist.py:502: UserWarning: The given NumPy array is not writeable, and PyTorch does not support non-writeable tensors. This means you can write to the underlying (supposedly non-writeable) NumPy array using the tensor. You may want to copy the array to protect its data or make it writeable before converting it to a tensor. This type of warning will be suppressed for the rest of this program. (Triggered internally at  /pytorch/torch/csrc/utils/tensor_numpy.cpp:143.)\n",
            "  return torch.from_numpy(parsed.astype(m[2], copy=False)).view(*s)\n"
          ],
          "name": "stderr"
        }
      ]
    },
    {
      "cell_type": "markdown",
      "metadata": {
        "id": "7Fd-1XMrf6W-"
      },
      "source": [
        "Visualise Dataset"
      ]
    },
    {
      "cell_type": "code",
      "metadata": {
        "id": "o22_FpBjf5yy"
      },
      "source": [
        "def imshow(img):\n",
        "    #img = img / 2 + 0.5     # unnormalize\n",
        "    npimg = img.numpy()\n",
        "    plt.imshow(np.transpose(npimg, (1, 2, 0)))\n",
        "    plt.show()"
      ],
      "execution_count": null,
      "outputs": []
    },
    {
      "cell_type": "code",
      "metadata": {
        "colab": {
          "base_uri": "https://localhost:8080/"
        },
        "id": "OnCX3-gFgS88",
        "outputId": "5772ec5f-8215-4b10-d3c4-510b651e4845"
      },
      "source": [
        "dataiter = iter(train_loader)\n",
        "images, labels = dataiter.next()\n",
        "\n",
        "# show images\n",
        "imshow(torchvision.utils.make_grid(images))\n",
        "# print labels\n",
        "print(' '.join('%5s' % labels[j].cpu().numpy() for j in range(16)))"
      ],
      "execution_count": null,
      "outputs": [
        {
          "output_type": "stream",
          "text": [
            "Clipping input data to the valid range for imshow with RGB data ([0..1] for floats or [0..255] for integers).\n"
          ],
          "name": "stderr"
        },
        {
          "output_type": "display_data",
          "data": {
            "image/png": "[encoded data removed]",
            "text/plain": [
              "<Figure size 432x288 with 1 Axes>"
            ]
          },
          "metadata": {
            "tags": [],
            "needs_background": "light"
          }
        },
        {
          "output_type": "stream",
          "text": [
            "    0     0     7     8     2     5     3     2     6     6     2     8     5     8     0     2\n"
          ],
          "name": "stdout"
        }
      ]
    },
    {
      "cell_type": "markdown",
      "metadata": {
        "id": "whvtINHGzQFN"
      },
      "source": [
        "# MODEL"
      ]
    },
    {
      "cell_type": "markdown",
      "metadata": {
        "id": "dxWFZUajY3IV"
      },
      "source": [
        "Homogeneous Training Capsules\n",
        "Inspired from the paper-'Homogeneous Vector Capsules Enable Adaptive Gradient Descent in Convolutional Neural Networks' , for more details please go through the summary.pdf"
      ]
    },
    {
      "cell_type": "code",
      "metadata": {
        "id": "BgD0pOe7Y1a1"
      },
      "source": [
        "class conv(nn.Module):\n",
        "  def __init__(self, in_fea,out_fea):\n",
        "    super().__init__()\n",
        "    self.layer=nn.Sequential(nn.Conv2d(in_fea,out_fea,3),nn.ReLU(),nn.Dropout(0.2),\n",
        "                             nn.Conv2d(out_fea,out_fea,3),nn.ReLU(),nn.Dropout(0.2),\n",
        "                             nn.Conv2d(out_fea,out_fea,3),nn.ReLU(),nn.Dropout(0.2))\n",
        "  def forward(self,x):\n",
        "    return self.layer(x)\n",
        "\n",
        "class capsule(nn.Module):\n",
        "    def __init__(self, in_fea,out_fea):\n",
        "      super().__init__()\n",
        "      self.in_fea=in_fea\n",
        "      self.layer1=nn.Linear(in_fea,out_fea)\n",
        "      self.layer2=nn.Sequential(nn.Dropout(0.2),nn.BatchNorm1d(out_fea),nn.ReLU())   \n",
        "    def forward(self,x):\n",
        "       x=x.view(-1,self.in_fea,x.shape[2]*x.shape[3])\n",
        "       x=x.permute(0,2,1)\n",
        "       x=self.layer1(x)\n",
        "       x=torch.sum(x,dim=1)\n",
        "       x=self.layer2(x)\n",
        "       return x\n",
        "class BMCNN(nn.Module):\n",
        "    def __init__(self, in_fea,out_fea):\n",
        "      super().__init__()\n",
        "      self.block1=conv(in_fea,64)\n",
        "      self.block2=conv(64,112)\n",
        "      self.block3=conv(112,160)\n",
        "      self.cap1=capsule(64,out_fea)\n",
        "      self.cap2=capsule(112,out_fea)\n",
        "      self.cap3=capsule(160,out_fea)\n",
        "    def forward(self,x):\n",
        "       x1=self.block1(x)\n",
        "       x2=self.block2(x1)\n",
        "       x3=self.block3(x2)\n",
        "       x1=self.cap1(x1)\n",
        "       x2=self.cap2(x2)\n",
        "       x3=self.cap3(x3)\n",
        "       x=x1+x2+x3\n",
        "       return x \n",
        "\n",
        "      \n"
      ],
      "execution_count": null,
      "outputs": []
    },
    {
      "cell_type": "markdown",
      "metadata": {
        "id": "KlBHyXgrDkV0"
      },
      "source": [
        "# TRAINING UTILS"
      ]
    },
    {
      "cell_type": "markdown",
      "metadata": {
        "id": "4MRIX5A4D1eZ"
      },
      "source": [
        "SAVE CHECKPOINT"
      ]
    },
    {
      "cell_type": "code",
      "metadata": {
        "id": "9Z0qrQ1tX3cF"
      },
      "source": [
        "def save_checkpoint(model, save_folder, name, epoch, opt, time1,best_model=False):\n",
        "\n",
        "    if best_model:\n",
        "        save_path = \"{}/{}/best_model.th\".format(\n",
        "            save_folder, name)\n",
        "    else:\n",
        "        save_path = \"{}/{}/epoch_{}.th\".format(save_folder,\n",
        "                                               name, epoch)\n",
        "\n",
        "    if not os.path.exists(save_folder + \"/\" + name):\n",
        "        os.makedirs(save_folder + \"/\" + name)\n",
        "\n",
        "    print(\"SAVE MODEL to\", save_path)\n",
        "\n",
        "\n",
        "    param_dict = {\n",
        "        'epoch': epoch,\n",
        "        'avg_time':time1,\n",
        "        'model_state_dict': model.state_dict(),\n",
        "        'optimizer_state_dict': opt.state_dict()}\n",
        "        \n",
        "\n",
        "    torch.save(param_dict, save_path)\n",
        "    #writer.close()\n",
        "    distutils.dir_util.copy_tree('/content/runs','/'.join(save_path.split('/')[:-1])+'/runs')"
      ],
      "execution_count": null,
      "outputs": []
    },
    {
      "cell_type": "markdown",
      "metadata": {
        "id": "Pg2bAt7cD6vq"
      },
      "source": [
        "LOAD CHECKPOINT"
      ]
    },
    {
      "cell_type": "code",
      "metadata": {
        "id": "-YNVtZ__R4Fb"
      },
      "source": [
        "def load_checkpoint(model, save_folder, model_name,epoch,opt,device ,best_model=False):\n",
        "      if best_model:\n",
        "        load_path = \"{}/model_{}/best_model.th\".format(save_folder, model_name)\n",
        "      else:\n",
        "        load_path = \"{}/{}/epoch_{}.th\".format(save_folder,\n",
        "                                                model_name, epoch)\n",
        "\n",
        "      checkpoint = torch.load(load_path,map_location=device)\n",
        "\n",
        "      epoch = checkpoint['epoch']\n",
        "      time1=checkpoint['avg_time']\n",
        "      \n",
        "      model =model # code for model init\n",
        "      model.load_state_dict(checkpoint['model_state_dict'])\n",
        "      model=model.to(device)\n",
        "\n",
        "      opt =opt #code for opt init\n",
        "      opt.load_state_dict(checkpoint['optimizer_state_dict'])\n",
        "      #opt.param_groups[0]['lr'] = checkpoint['optimizer_params']['lr']\n",
        "      distutils.dir_util.copy_tree('/'.join(load_path.split('/')[:-1])+'/runs','/content/runs')\n",
        "      return model, opt, epoch, time1 \n"
      ],
      "execution_count": null,
      "outputs": []
    },
    {
      "cell_type": "markdown",
      "metadata": {
        "id": "-RH5-yzzHkV4"
      },
      "source": [
        "WEIGHT INITIALISATION"
      ]
    },
    {
      "cell_type": "code",
      "metadata": {
        "id": "5edXoGOadL00"
      },
      "source": [
        "from torch.nn import init\n",
        "def init_weights(net, init_type='normal', gain=0.02):\n",
        "    def init_func(m):\n",
        "        classname = m.__class__.__name__\n",
        "        if hasattr(m, 'weight') and (classname.find('Conv') != -1 or classname.find('Linear') != -1):\n",
        "            if init_type == 'normal':\n",
        "                init.normal_(m.weight.data, 0.0, gain)\n",
        "            elif init_type == 'xavier':\n",
        "                init.xavier_normal_(m.weight.data, gain=gain)\n",
        "            elif init_type == 'kaiming':\n",
        "                init.kaiming_normal_(m.weight.data, a=0, mode='fan_in')\n",
        "            elif init_type == 'orthogonal':\n",
        "                init.orthogonal_(m.weight.data, gain=gain)\n",
        "            else:\n",
        "                raise NotImplementedError('initialization method [%s] is not implemented' % init_type)\n",
        "            if hasattr(m, 'bias') and m.bias is not None:\n",
        "                init.constant_(m.bias.data, 0.0)\n",
        "        elif classname.find('BatchNorm2d') != -1:\n",
        "            init.normal_(m.weight.data, 1.0, gain)\n",
        "            init.constant_(m.bias.data, 0.0)\n",
        "\n",
        "    print('initialize network with %s' % init_type)\n",
        "    net.apply(init_func)"
      ],
      "execution_count": null,
      "outputs": []
    },
    {
      "cell_type": "markdown",
      "metadata": {
        "id": "SA70e3AyIPPr"
      },
      "source": [
        "ACCURACY FUNCTION"
      ]
    },
    {
      "cell_type": "code",
      "metadata": {
        "id": "S9xNXG08ZWqe"
      },
      "source": [
        "def accuracy_fn(output, target, topk=(1,)):\n",
        "    \"\"\"Computes the precision@k for the specified values of k\"\"\"\n",
        "    maxk = max(topk)\n",
        "    batch_size = target.size(0)\n",
        "\n",
        "    _, pred = output.topk(maxk, 1, True, True)\n",
        "    pred = pred.t()\n",
        "    correct = pred.eq(target.view(1, -1).expand_as(pred))\n",
        "\n",
        "    res = []\n",
        "    for k in topk:\n",
        "        correct_k = correct[:k].reshape(-1).float().sum(0)\n",
        "        res.append(correct_k.mul_(1/ batch_size))\n",
        "    return res"
      ],
      "execution_count": null,
      "outputs": []
    },
    {
      "cell_type": "markdown",
      "metadata": {
        "id": "FnYkP86K_6RX"
      },
      "source": [
        "Average Meter\n",
        "\n",
        "refernce-https://github.com/pytorch/tnt/blob/master/torchnet/meter/meter.py"
      ]
    },
    {
      "cell_type": "code",
      "metadata": {
        "id": "eO2Gulv1AM03"
      },
      "source": [
        "class Meter(object):\n",
        "    '''Meters provide a way to keep track of important statistics in an online manner.\n",
        "    This class is abstract, but provides a standard interface for all meters to follow.\n",
        "    '''\n",
        "\n",
        "    def reset(self):\n",
        "        '''Resets the meter to default settings.'''\n",
        "        pass\n",
        "\n",
        "    def add(self, value):\n",
        "        '''Log a new value to the meter\n",
        "        Args:\n",
        "            value: Next restult to include.\n",
        "        '''\n",
        "        pass\n",
        "\n",
        "    def value(self):\n",
        "        '''Get the value of the meter in the current state.'''\n",
        "        pass\n",
        "\n",
        "\n",
        "\n",
        "import math\n",
        "\n",
        "import numpy as np\n",
        "\n",
        "\n",
        "class AverageValueMeter(Meter):\n",
        "    def __init__(self,std_sh=False):\n",
        "        super(AverageValueMeter, self).__init__()\n",
        "        self.reset()\n",
        "        self.val = 0\n",
        "        self.std_sh=std_sh\n",
        "    def add(self, value, n=1):\n",
        "        self.val = value\n",
        "        self.sum += value * n\n",
        "        if n <= 0:\n",
        "            raise ValueError(\"Cannot use a non-positive weight for the running stat.\")\n",
        "        elif self.n == 0:\n",
        "            self.mean = 0.0 + value  # This is to force a copy in torch/numpy\n",
        "            self.std = np.inf\n",
        "            self.mean_old = self.mean\n",
        "            self.m_s = 0.0\n",
        "        else:\n",
        "            self.mean = self.mean_old + n * (value - self.mean_old) / float(self.n + n)\n",
        "            self.m_s += n * (value - self.mean_old) * (value - self.mean)\n",
        "            self.mean_old = self.mean\n",
        "            self.std = np.sqrt(self.m_s / (self.n + n - 1.0))\n",
        "        self.var = self.std ** 2\n",
        "\n",
        "        self.n += n\n",
        "\n",
        "    def value(self):\n",
        "      if self.std_sh:\n",
        "        return self.mean,self.std\n",
        "      else:  \n",
        "        return self.mean\n",
        "    def reset(self):\n",
        "        self.n = 0\n",
        "        self.sum = 0.0\n",
        "        self.var = 0.0\n",
        "        self.val = 0.0\n",
        "        self.mean = np.nan\n",
        "        self.mean_old = 0.0\n",
        "        self.m_s = 0.0\n",
        "        self.std = np.nan\n",
        "\n",
        "\n",
        "\n",
        "\n",
        "\n",
        "\n",
        "class SumMeter(Meter):\n",
        "    def __init__(self):\n",
        "        super(SumMeter, self).__init__()\n",
        "        self.reset()\n",
        "        self.val = 0\n",
        "\n",
        "    def add(self, value, n=1):\n",
        "        self.val = value\n",
        "        self.sum += value * n\n",
        "        self.n += n\n",
        "\n",
        "    def value(self):\n",
        "        return self.sum\n",
        "\n",
        "    def reset(self):\n",
        "        self.n = 0\n",
        "        self.sum = 0.0\n",
        "        self.val = 0.0\n",
        "        "
      ],
      "execution_count": null,
      "outputs": []
    },
    {
      "cell_type": "markdown",
      "metadata": {
        "id": "Q5wY8uhAFd9N"
      },
      "source": [
        "Time calculation"
      ]
    },
    {
      "cell_type": "code",
      "metadata": {
        "id": "LOIM1H1tFbya"
      },
      "source": [
        "def epoch_time(start_time, end_time):\n",
        "    elapsed_time = end_time - start_time\n",
        "    elapsed_mins = int(elapsed_time / 60)\n",
        "    elapsed_secs = int(elapsed_time - (elapsed_mins * 60))\n",
        "    return elapsed_mins, elapsed_secs\n"
      ],
      "execution_count": null,
      "outputs": []
    },
    {
      "cell_type": "markdown",
      "metadata": {
        "id": "nX0cwE1WRTpK"
      },
      "source": [
        "Convergence Calculation"
      ]
    },
    {
      "cell_type": "code",
      "metadata": {
        "id": "lPPw3y7aRTR3"
      },
      "source": [
        "import sys\n",
        "class Convergence(object):\n",
        "   def __init__(self):\n",
        "     self.cn_loss=sys.maxsize\n",
        "     self.cnt=1\n",
        "     self.meter=AverageValueMeter(True)\n",
        "     self.meter.add(self.cn_loss)\n",
        "     self.time=0\n",
        "     self.epoch=0\n",
        "   def calc(self,cn_loss,time,epoch):\n",
        "     if cn_loss>=self.cn_loss:\n",
        "       self.meter.add(cn_loss)\n",
        "       self.cnt+=1\n",
        "      \n",
        "     else:\n",
        "       self.meter.reset()\n",
        "       self.meter.add(cn_loss)\n",
        "       self.time=time\n",
        "       self.epoch=epoch\n",
        "       self.cnt=1\n",
        "       self.cn_loss=cn_loss"
      ],
      "execution_count": null,
      "outputs": []
    },
    {
      "cell_type": "markdown",
      "metadata": {
        "id": "eG2W_jSg6kLL"
      },
      "source": [
        "# Train"
      ]
    },
    {
      "cell_type": "markdown",
      "metadata": {
        "id": "-mMdHsq4Gt58"
      },
      "source": [
        "Training function"
      ]
    },
    {
      "cell_type": "code",
      "metadata": {
        "id": "J7IsCM-b6jqR"
      },
      "source": [
        "def train(model,train_loader,criterion,optimizer,scheduler,meters,epoch,pr_br,ch=3):\n",
        "    model.train()\n",
        "    meters['train_loss'].reset()\n",
        "\n",
        "    for batch_idx, (data,label) in enumerate(train_loader):\n",
        "        if ch==1:\n",
        "          data = data.expand(-1, 3, -1, -1)\n",
        "        data = data.to(device)\n",
        "        label=label.to(device)\n",
        "        optimizer.zero_grad()\n",
        "        output= model(data)\n",
        "        loss = criterion(output,label)\n",
        "        loss.backward()\n",
        "        meters['train_loss'].add(loss.item())\n",
        "        optimizer.step()\n",
        "        writer.add_scalar(\"Train_Loss/iter\", meters['train_loss'].value(),epoch*len(train_loader)+batch_idx )\n",
        "        if batch_idx %pr_br == 0:        \n",
        "            print(' Epoch: {} Iter: {} Average train loss: {:.4f}'.format(\n",
        "                epoch,batch_idx, meters['train_loss'].value()))\n",
        "    writer.add_scalar(\"Train_Loss/epoch\", meters['train_loss'].value(),epoch)\n",
        "   # scheduler.step()"
      ],
      "execution_count": null,
      "outputs": []
    },
    {
      "cell_type": "markdown",
      "metadata": {
        "id": "-csY45OnG1-e"
      },
      "source": [
        "Evaluation function"
      ]
    },
    {
      "cell_type": "code",
      "metadata": {
        "id": "kDdFfpRsG9SK"
      },
      "source": [
        "def mod_eval(model,test_loader,criterion,meters,epoch,pr_br,ch=3):\n",
        "    model.eval()\n",
        "    meters['val_loss'].reset()\n",
        "    meters['val_a1'].reset()\n",
        "    meters['val_a3'].reset()\n",
        "    meters['val_a5'].reset()\n",
        "    for batch_idx, (data,label) in enumerate(test_loader):\n",
        "        if ch==1:\n",
        "          data = data.expand(-1, 3, -1, -1)\n",
        "        data = data.to(device)\n",
        "        label=label.to(device)\n",
        "        optimizer.zero_grad()\n",
        "        output= model(data)\n",
        "        loss = criterion(output,label)\n",
        "        meters['val_loss'].add(loss.item())\n",
        "        r=accuracy_fn(output.data,label.data,(1,3,5))\n",
        "        meters['val_a1'].add(r[0].item())\n",
        "        meters['val_a3'].add(r[1].item())\n",
        "        meters['val_a5'].add(r[2].item())\n",
        "        writer.add_scalar(\"Val_Loss/iter\", meters['val_loss'].value(),epoch*len(test_loader)+batch_idx )\n",
        "        writer.add_scalar(\"accuracy_1/iter\", meters['val_a1'].value(), epoch*len(test_loader)+batch_idx)\n",
        "        writer.add_scalar(\"accuracy_3/iter\", meters['val_a3'].value(),epoch*len(test_loader)+batch_idx)\n",
        "        writer.add_scalar(\"accuracy_5/iter\", meters['val_a5'].value(), epoch*len(test_loader)+batch_idx)\n",
        "      \n",
        "        if batch_idx % pr_br == 0:        \n",
        "            print(' Epoch: {} Iter: {} Average val loss: {:.4f} Acc1: {:.2f} Acc3: {:.2f} Acc5: {:.2f}'.format(\n",
        "                epoch,batch_idx, meters['val_loss'].value(),meters['val_a1'].value(),meters['val_a3'].value(),meters['val_a5'].value()))\n",
        "    writer.add_scalar(\"Val_Loss/epoch\", meters['val_loss'].value(),epoch )\n",
        "    writer.add_scalar(\"accuracy_1/epoch\", meters['val_a1'].value(), epoch)\n",
        "    writer.flush()"
      ],
      "execution_count": null,
      "outputs": []
    },
    {
      "cell_type": "markdown",
      "metadata": {
        "id": "xiQJhGs2O4V_"
      },
      "source": [
        "Main"
      ]
    },
    {
      "cell_type": "code",
      "metadata": {
        "id": "hp8YGWwxG7q0"
      },
      "source": [
        "import time\n",
        "from torch.utils.tensorboard import SummaryWriter\n",
        "def run(model,criterion,optimizer,scheduler,load_dir,load_model,load_epch=0,N_EPOCHS=20,save_fq=5,load=False,ch=3):\n",
        "  lst_epch=0\n",
        "  cnt=1\n",
        " \n",
        "  writer = SummaryWriter()\n",
        "  if load==True:\n",
        "    model,optimizer,lst_epch,meters['time'].val=load_checkpoint(model,load_dir,load_model,load_epch,optimizer,device)\n",
        "    #scheduler=\n",
        "    lst_epch+=1\n",
        "  for epoch in range(lst_epch,lst_epch+N_EPOCHS):\n",
        "      \n",
        "      start_time = time.time()\n",
        "      \n",
        "      train(model,train_loader,criterion,optimizer, scheduler,meters,epoch,1000,ch)\n",
        "\n",
        "     \n",
        "      end_time = time.time()\n",
        "      meters['time'].add(end_time-start_time)\n",
        "      epoch_mins, epoch_secs = epoch_time(start_time, end_time)\n",
        "         \n",
        "\n",
        "      mod_eval(model,test_loader,criterion,meters,epoch,1000,ch)\n",
        "\n",
        "      con.calc(meters['val_loss'].value(),meters['time'].value(),epoch)\n",
        "\n",
        "\n",
        "      print('\\n')\n",
        "      print('====> After epoch {} '.format(epoch))\n",
        "      print(f'====>Epoch Time: {epoch_mins}m {epoch_secs}s')\n",
        "      print('====>Average train loss: {:.4f} '.format(\n",
        "                 meters['train_loss'].value()))\n",
        "      print('====> Average val loss: {:.4f} Acc1: {:.2f} Acc3: {:.2f} Acc5: {:.2f}'.format(\n",
        "                 meters['val_loss'].value(),meters['val_a1'].value(),meters['val_a3'].value(),meters['val_a5'].value()))\n",
        "      print('\\n')\n",
        "      \n",
        "      if con.cnt>=5:\n",
        "        save_checkpoint(model,load_dir,load_model,epoch,optimizer, meters['time'].value())\n",
        "        break\n",
        "\n",
        "      scheduler.step(meters['val_loss'].value())\n",
        "      if(cnt%save_fq==0):\n",
        "        save_checkpoint(model,load_dir,load_model,epoch,optimizer, meters['time'].value())\n",
        "      cnt+=1  "
      ],
      "execution_count": null,
      "outputs": []
    },
    {
      "cell_type": "markdown",
      "metadata": {
        "id": "TWtCK-rn6rZN"
      },
      "source": [
        "to run pretrained(0-9)"
      ]
    },
    {
      "cell_type": "code",
      "metadata": {
        "id": "gL0cHF6i4-gg"
      },
      "source": [
        "import time\n",
        "from torch.utils.tensorboard import SummaryWriter\n",
        "def run_pre(model,criterion,optimizer,scheduler,load_dir,load_model,load_epch=0,N_EPOCHS=20,save_fq=5,load=False,ch=3):\n",
        "  lst_epch=0\n",
        "  cnt=1\n",
        "  load_path='/content/drive/MyDrive/Model_files/task2/BMCNN_(0-9)_part2/epoch_44.th'\n",
        "  checkpoint = torch.load(load_path,map_location=device)\n",
        "\n",
        " \n",
        "  model.load_state_dict(checkpoint['model_state_dict'])\n",
        "  model=model.to(device)\n",
        "\n",
        " \n",
        "\n",
        "\n",
        "  writer = SummaryWriter()\n",
        "  if load==True:\n",
        "    model,optimizer,lst_epch,meters['time'].val=load_checkpoint(model,load_dir,load_model,load_epch,optimizer,device)\n",
        "    #scheduler=\n",
        "    lst_epch+=1\n",
        "  for epoch in range(lst_epch,lst_epch+N_EPOCHS):\n",
        "      \n",
        "      start_time = time.time()\n",
        "      \n",
        "      train(model,train_loader,criterion,optimizer, scheduler,meters,epoch,1000,ch)\n",
        "\n",
        "     \n",
        "      end_time = time.time()\n",
        "      meters['time'].add(end_time-start_time)\n",
        "      epoch_mins, epoch_secs = epoch_time(start_time, end_time)\n",
        "         \n",
        "\n",
        "      mod_eval(model,test_loader,criterion,meters,epoch,1000,ch)\n",
        "\n",
        "      con.calc(meters['val_loss'].value(),meters['time'].value(),epoch)\n",
        "\n",
        "\n",
        "      print('\\n')\n",
        "      print('====> After epoch {} '.format(epoch))\n",
        "      print(f'====>Epoch Time: {epoch_mins}m {epoch_secs}s')\n",
        "      print('====>Average train loss: {:.4f} '.format(\n",
        "                 meters['train_loss'].value()))\n",
        "      print('====> Average val loss: {:.4f} Acc1: {:.2f} Acc3: {:.2f} Acc5: {:.2f}'.format(\n",
        "                 meters['val_loss'].value(),meters['val_a1'].value(),meters['val_a3'].value(),meters['val_a5'].value()))\n",
        "      print('\\n')\n",
        "      \n",
        "      if con.cnt>=5:\n",
        "        save_checkpoint(model,load_dir,load_model,epoch,optimizer, meters['time'].value())\n",
        "        break\n",
        "\n",
        "      scheduler.step(meters['val_loss'].value())\n",
        "      if(cnt%save_fq==0):\n",
        "        save_checkpoint(model,load_dir,load_model,epoch,optimizer, meters['time'].value())\n",
        "      cnt+=1  "
      ],
      "execution_count": null,
      "outputs": []
    },
    {
      "cell_type": "markdown",
      "metadata": {
        "id": "bJN5WyK9TXoV"
      },
      "source": [
        "Model, Loss and Other Auxilary Training Initilisations"
      ]
    },
    {
      "cell_type": "code",
      "metadata": {
        "colab": {
          "base_uri": "https://localhost:8080/"
        },
        "id": "R3Kzc1WsTpjp",
        "outputId": "c50dcc31-78d8-45d2-e209-ead5b0bceaf0"
      },
      "source": [
        "from torch.optim.lr_scheduler import ReduceLROnPlateau\n",
        "from torch import optim\n",
        "model=BMCNN(3,10)\n",
        "model=model.to(device)\n",
        "\n",
        "init_weights(model,'kaiming')\n",
        "optimizer = optim.Adam(model.parameters(),lr=0.0001)\n",
        "criterion = nn.CrossEntropyLoss()\n",
        "scheduler = ReduceLROnPlateau(optimizer, mode='min', factor=0.5, patience=1, verbose=True)\n",
        "con=Convergence()\n",
        "meters={'val_loss':AverageValueMeter(),'val_a1':AverageValueMeter(),'val_a3':AverageValueMeter(),'val_a5':AverageValueMeter(),'train_loss':AverageValueMeter(),'time':SumMeter()}"
      ],
      "execution_count": null,
      "outputs": [
        {
          "output_type": "stream",
          "text": [
            "initialize network with kaiming\n"
          ],
          "name": "stdout"
        }
      ]
    },
    {
      "cell_type": "markdown",
      "metadata": {
        "id": "Y4KRbhi8lhJt"
      },
      "source": [
        "# RUN"
      ]
    },
    {
      "cell_type": "markdown",
      "metadata": {
        "id": "_-JiKM-H4wOc"
      },
      "source": [
        "# Run and evaluation of Model without Pre-trained weights."
      ]
    },
    {
      "cell_type": "markdown",
      "metadata": {
        "id": "tCvwc5tgalGA"
      },
      "source": [
        "Run"
      ]
    },
    {
      "cell_type": "code",
      "metadata": {
        "colab": {
          "base_uri": "https://localhost:8080/"
        },
        "id": "kQKCxhqCHMf3",
        "outputId": "e241483b-1cf5-443c-ba20-dc01792f5b53"
      },
      "source": [
        "run(model,criterion,optimizer,scheduler,'/content/drive/MyDrive/Model_files','task2/BMCNN_part2_nopre3',0,100,10,False,1)"
      ],
      "execution_count": null,
      "outputs": [
        {
          "output_type": "stream",
          "text": [
            " Epoch: 0 Iter: 0 Average train loss: 2.4773\n",
            " Epoch: 0 Iter: 1000 Average train loss: 1.2459\n",
            " Epoch: 0 Iter: 2000 Average train loss: 0.9317\n",
            " Epoch: 0 Iter: 3000 Average train loss: 0.7897\n",
            " Epoch: 0 Iter: 0 Average val loss: 0.4479 Acc1: 0.81 Acc3: 1.00 Acc5: 1.00\n",
            "\n",
            "\n",
            "====> After epoch 0 \n",
            "====>Epoch Time: 0m 45s\n",
            "====>Average train loss: 0.7204 \n",
            "====> Average val loss: 0.2254 Acc1: 0.94 Acc3: 0.99 Acc5: 1.00\n",
            "\n",
            "\n",
            " Epoch: 1 Iter: 0 Average train loss: 0.7511\n",
            " Epoch: 1 Iter: 1000 Average train loss: 0.3844\n",
            " Epoch: 1 Iter: 2000 Average train loss: 0.3714\n",
            " Epoch: 1 Iter: 3000 Average train loss: 0.3578\n",
            " Epoch: 1 Iter: 0 Average val loss: 0.0402 Acc1: 1.00 Acc3: 1.00 Acc5: 1.00\n",
            "\n",
            "\n",
            "====> After epoch 1 \n",
            "====>Epoch Time: 0m 44s\n",
            "====>Average train loss: 0.3513 \n",
            "====> Average val loss: 0.0796 Acc1: 0.98 Acc3: 1.00 Acc5: 1.00\n",
            "\n",
            "\n",
            " Epoch: 2 Iter: 0 Average train loss: 0.4488\n",
            " Epoch: 2 Iter: 1000 Average train loss: 0.2881\n",
            " Epoch: 2 Iter: 2000 Average train loss: 0.2852\n",
            " Epoch: 2 Iter: 3000 Average train loss: 0.2781\n",
            " Epoch: 2 Iter: 0 Average val loss: 0.0855 Acc1: 0.94 Acc3: 1.00 Acc5: 1.00\n",
            "\n",
            "\n",
            "====> After epoch 2 \n",
            "====>Epoch Time: 0m 44s\n",
            "====>Average train loss: 0.2746 \n",
            "====> Average val loss: 0.0591 Acc1: 0.99 Acc3: 1.00 Acc5: 1.00\n",
            "\n",
            "\n",
            " Epoch: 3 Iter: 0 Average train loss: 0.4817\n",
            " Epoch: 3 Iter: 1000 Average train loss: 0.2462\n",
            " Epoch: 3 Iter: 2000 Average train loss: 0.2409\n",
            " Epoch: 3 Iter: 3000 Average train loss: 0.2368\n",
            " Epoch: 3 Iter: 0 Average val loss: 0.0360 Acc1: 1.00 Acc3: 1.00 Acc5: 1.00\n",
            "\n",
            "\n",
            "====> After epoch 3 \n",
            "====>Epoch Time: 0m 44s\n",
            "====>Average train loss: 0.2329 \n",
            "====> Average val loss: 0.0443 Acc1: 0.99 Acc3: 1.00 Acc5: 1.00\n",
            "\n",
            "\n",
            " Epoch: 4 Iter: 0 Average train loss: 0.4532\n",
            " Epoch: 4 Iter: 1000 Average train loss: 0.2100\n",
            " Epoch: 4 Iter: 2000 Average train loss: 0.2059\n",
            " Epoch: 4 Iter: 3000 Average train loss: 0.2045\n",
            " Epoch: 4 Iter: 0 Average val loss: 0.0162 Acc1: 1.00 Acc3: 1.00 Acc5: 1.00\n",
            "\n",
            "\n",
            "====> After epoch 4 \n",
            "====>Epoch Time: 0m 45s\n",
            "====>Average train loss: 0.2009 \n",
            "====> Average val loss: 0.0364 Acc1: 0.99 Acc3: 1.00 Acc5: 1.00\n",
            "\n",
            "\n",
            " Epoch: 5 Iter: 0 Average train loss: 0.1002\n",
            " Epoch: 5 Iter: 1000 Average train loss: 0.1850\n",
            " Epoch: 5 Iter: 2000 Average train loss: 0.1836\n",
            " Epoch: 5 Iter: 3000 Average train loss: 0.1827\n",
            " Epoch: 5 Iter: 0 Average val loss: 0.0099 Acc1: 1.00 Acc3: 1.00 Acc5: 1.00\n",
            "\n",
            "\n",
            "====> After epoch 5 \n",
            "====>Epoch Time: 0m 45s\n",
            "====>Average train loss: 0.1820 \n",
            "====> Average val loss: 0.0297 Acc1: 0.99 Acc3: 1.00 Acc5: 1.00\n",
            "\n",
            "\n",
            " Epoch: 6 Iter: 0 Average train loss: 0.1503\n",
            " Epoch: 6 Iter: 1000 Average train loss: 0.1698\n",
            " Epoch: 6 Iter: 2000 Average train loss: 0.1674\n",
            " Epoch: 6 Iter: 3000 Average train loss: 0.1658\n",
            " Epoch: 6 Iter: 0 Average val loss: 0.0029 Acc1: 1.00 Acc3: 1.00 Acc5: 1.00\n",
            "\n",
            "\n",
            "====> After epoch 6 \n",
            "====>Epoch Time: 0m 45s\n",
            "====>Average train loss: 0.1664 \n",
            "====> Average val loss: 0.0255 Acc1: 0.99 Acc3: 1.00 Acc5: 1.00\n",
            "\n",
            "\n",
            " Epoch: 7 Iter: 0 Average train loss: 0.0615\n",
            " Epoch: 7 Iter: 1000 Average train loss: 0.1560\n",
            " Epoch: 7 Iter: 2000 Average train loss: 0.1555\n",
            " Epoch: 7 Iter: 3000 Average train loss: 0.1548\n",
            " Epoch: 7 Iter: 0 Average val loss: 0.0403 Acc1: 1.00 Acc3: 1.00 Acc5: 1.00\n",
            "\n",
            "\n",
            "====> After epoch 7 \n",
            "====>Epoch Time: 0m 45s\n",
            "====>Average train loss: 0.1531 \n",
            "====> Average val loss: 0.0279 Acc1: 0.99 Acc3: 1.00 Acc5: 1.00\n",
            "\n",
            "\n",
            " Epoch: 8 Iter: 0 Average train loss: 0.0623\n",
            " Epoch: 8 Iter: 1000 Average train loss: 0.1512\n",
            " Epoch: 8 Iter: 2000 Average train loss: 0.1502\n",
            " Epoch: 8 Iter: 3000 Average train loss: 0.1478\n",
            " Epoch: 8 Iter: 0 Average val loss: 0.0126 Acc1: 1.00 Acc3: 1.00 Acc5: 1.00\n",
            "\n",
            "\n",
            "====> After epoch 8 \n",
            "====>Epoch Time: 0m 44s\n",
            "====>Average train loss: 0.1473 \n",
            "====> Average val loss: 0.0218 Acc1: 1.00 Acc3: 1.00 Acc5: 1.00\n",
            "\n",
            "\n",
            " Epoch: 9 Iter: 0 Average train loss: 0.1863\n",
            " Epoch: 9 Iter: 1000 Average train loss: 0.1427\n",
            " Epoch: 9 Iter: 2000 Average train loss: 0.1399\n",
            " Epoch: 9 Iter: 3000 Average train loss: 0.1374\n",
            " Epoch: 9 Iter: 0 Average val loss: 0.0040 Acc1: 1.00 Acc3: 1.00 Acc5: 1.00\n",
            "\n",
            "\n",
            "====> After epoch 9 \n",
            "====>Epoch Time: 0m 45s\n",
            "====>Average train loss: 0.1374 \n",
            "====> Average val loss: 0.0213 Acc1: 0.99 Acc3: 1.00 Acc5: 1.00\n",
            "\n",
            "\n",
            "SAVE MODEL to /content/drive/MyDrive/Model_files/task2/BMCNN_part2_nopre3/epoch_9.th\n",
            " Epoch: 10 Iter: 0 Average train loss: 0.3356\n",
            " Epoch: 10 Iter: 1000 Average train loss: 0.1286\n",
            " Epoch: 10 Iter: 2000 Average train loss: 0.1283\n",
            " Epoch: 10 Iter: 3000 Average train loss: 0.1284\n",
            " Epoch: 10 Iter: 0 Average val loss: 0.0018 Acc1: 1.00 Acc3: 1.00 Acc5: 1.00\n",
            "\n",
            "\n",
            "====> After epoch 10 \n",
            "====>Epoch Time: 0m 45s\n",
            "====>Average train loss: 0.1272 \n",
            "====> Average val loss: 0.0199 Acc1: 0.99 Acc3: 1.00 Acc5: 1.00\n",
            "\n",
            "\n",
            " Epoch: 11 Iter: 0 Average train loss: 0.2217\n",
            " Epoch: 11 Iter: 1000 Average train loss: 0.1192\n",
            " Epoch: 11 Iter: 2000 Average train loss: 0.1223\n",
            " Epoch: 11 Iter: 3000 Average train loss: 0.1231\n",
            " Epoch: 11 Iter: 0 Average val loss: 0.0152 Acc1: 1.00 Acc3: 1.00 Acc5: 1.00\n",
            "\n",
            "\n",
            "====> After epoch 11 \n",
            "====>Epoch Time: 0m 45s\n",
            "====>Average train loss: 0.1223 \n",
            "====> Average val loss: 0.0210 Acc1: 0.99 Acc3: 1.00 Acc5: 1.00\n",
            "\n",
            "\n",
            " Epoch: 12 Iter: 0 Average train loss: 0.1053\n",
            " Epoch: 12 Iter: 1000 Average train loss: 0.1255\n",
            " Epoch: 12 Iter: 2000 Average train loss: 0.1223\n",
            " Epoch: 12 Iter: 3000 Average train loss: 0.1216\n",
            " Epoch: 12 Iter: 0 Average val loss: 0.4409 Acc1: 0.94 Acc3: 1.00 Acc5: 1.00\n",
            "\n",
            "\n",
            "====> After epoch 12 \n",
            "====>Epoch Time: 0m 45s\n",
            "====>Average train loss: 0.1207 \n",
            "====> Average val loss: 0.0181 Acc1: 1.00 Acc3: 1.00 Acc5: 1.00\n",
            "\n",
            "\n",
            " Epoch: 13 Iter: 0 Average train loss: 0.2598\n",
            " Epoch: 13 Iter: 1000 Average train loss: 0.1176\n",
            " Epoch: 13 Iter: 2000 Average train loss: 0.1138\n",
            " Epoch: 13 Iter: 3000 Average train loss: 0.1148\n",
            " Epoch: 13 Iter: 0 Average val loss: 0.0055 Acc1: 1.00 Acc3: 1.00 Acc5: 1.00\n",
            "\n",
            "\n",
            "====> After epoch 13 \n",
            "====>Epoch Time: 0m 44s\n",
            "====>Average train loss: 0.1152 \n",
            "====> Average val loss: 0.0160 Acc1: 1.00 Acc3: 1.00 Acc5: 1.00\n",
            "\n",
            "\n",
            " Epoch: 14 Iter: 0 Average train loss: 0.0127\n",
            " Epoch: 14 Iter: 1000 Average train loss: 0.1081\n",
            " Epoch: 14 Iter: 2000 Average train loss: 0.1091\n",
            " Epoch: 14 Iter: 3000 Average train loss: 0.1079\n",
            " Epoch: 14 Iter: 0 Average val loss: 0.0026 Acc1: 1.00 Acc3: 1.00 Acc5: 1.00\n",
            "\n",
            "\n",
            "====> After epoch 14 \n",
            "====>Epoch Time: 0m 44s\n",
            "====>Average train loss: 0.1072 \n",
            "====> Average val loss: 0.0176 Acc1: 0.99 Acc3: 1.00 Acc5: 1.00\n",
            "\n",
            "\n",
            " Epoch: 15 Iter: 0 Average train loss: 0.0212\n",
            " Epoch: 15 Iter: 1000 Average train loss: 0.1066\n",
            " Epoch: 15 Iter: 2000 Average train loss: 0.1044\n",
            " Epoch: 15 Iter: 3000 Average train loss: 0.1069\n",
            " Epoch: 15 Iter: 0 Average val loss: 0.0149 Acc1: 1.00 Acc3: 1.00 Acc5: 1.00\n",
            "\n",
            "\n",
            "====> After epoch 15 \n",
            "====>Epoch Time: 0m 45s\n",
            "====>Average train loss: 0.1063 \n",
            "====> Average val loss: 0.0187 Acc1: 0.99 Acc3: 1.00 Acc5: 1.00\n",
            "\n",
            "\n",
            "Epoch    16: reducing learning rate of group 0 to 5.0000e-05.\n",
            " Epoch: 16 Iter: 0 Average train loss: 0.0265\n",
            " Epoch: 16 Iter: 1000 Average train loss: 0.0942\n",
            " Epoch: 16 Iter: 2000 Average train loss: 0.0941\n",
            " Epoch: 16 Iter: 3000 Average train loss: 0.0919\n",
            " Epoch: 16 Iter: 0 Average val loss: 0.0023 Acc1: 1.00 Acc3: 1.00 Acc5: 1.00\n",
            "\n",
            "\n",
            "====> After epoch 16 \n",
            "====>Epoch Time: 0m 44s\n",
            "====>Average train loss: 0.0928 \n",
            "====> Average val loss: 0.0163 Acc1: 1.00 Acc3: 1.00 Acc5: 1.00\n",
            "\n",
            "\n",
            " Epoch: 17 Iter: 0 Average train loss: 0.1757\n",
            " Epoch: 17 Iter: 1000 Average train loss: 0.0901\n",
            " Epoch: 17 Iter: 2000 Average train loss: 0.0905\n",
            " Epoch: 17 Iter: 3000 Average train loss: 0.0913\n",
            " Epoch: 17 Iter: 0 Average val loss: 0.0007 Acc1: 1.00 Acc3: 1.00 Acc5: 1.00\n",
            "\n",
            "\n",
            "====> After epoch 17 \n",
            "====>Epoch Time: 0m 44s\n",
            "====>Average train loss: 0.0920 \n",
            "====> Average val loss: 0.0161 Acc1: 1.00 Acc3: 1.00 Acc5: 1.00\n",
            "\n",
            "\n",
            "SAVE MODEL to /content/drive/MyDrive/Model_files/task2/BMCNN_part2_nopre3/epoch_17.th\n"
          ],
          "name": "stdout"
        }
      ]
    },
    {
      "cell_type": "markdown",
      "metadata": {
        "id": "63LVKD8jaxnI"
      },
      "source": [
        "Convergence Metrics"
      ]
    },
    {
      "cell_type": "code",
      "metadata": {
        "colab": {
          "base_uri": "https://localhost:8080/"
        },
        "id": "hgPmfd1lHMgF",
        "outputId": "b64f3757-de0b-45c8-aad9-6d82077eca99"
      },
      "source": [
        "print('====> After epoch {} '.format(con.epoch))\n",
        "print('====>conv Time: {}'.format(con.time))\n",
        "#print('====>conv Time: {}'.format(con.time))\n",
        "print('====>Average train loss: {:.4f} +-{:.4f}'.format(\n",
        "                 con.meter.value()[0],con.meter.value()[1]))"
      ],
      "execution_count": null,
      "outputs": [
        {
          "output_type": "stream",
          "text": [
            "====> After epoch 13 \n",
            "====>conv Time: 630.5595891475677\n",
            "====>Average train loss: 0.0170 +-0.0012\n"
          ],
          "name": "stdout"
        }
      ]
    },
    {
      "cell_type": "markdown",
      "metadata": {
        "id": "CJI51WHxa2JG"
      },
      "source": [
        "Final Test Accuracy"
      ]
    },
    {
      "cell_type": "code",
      "metadata": {
        "colab": {
          "base_uri": "https://localhost:8080/"
        },
        "id": "I7g9sXFRHMgJ",
        "outputId": "b967e8da-9de9-4b4d-9a80-34c6a229e457"
      },
      "source": [
        "acc_meter=AverageValueMeter()\n",
        "model.eval()\n",
        "for batch_idx, (data,label) in enumerate(test_loader):\n",
        "    data = data.to(device)\n",
        "    label=label.to(device)\n",
        "    data = data.expand(-1, 3, -1, -1)\n",
        "    output= model(data)\n",
        "    \n",
        "   \n",
        "    r=accuracy_fn(output.data,label.data,(1,3,5))\n",
        "    acc_meter.add(r[0].item())\n",
        "print('Test_accuracy:{}'.format(acc_meter.value()))"
      ],
      "execution_count": null,
      "outputs": [
        {
          "output_type": "stream",
          "text": [
            "Test_accuracy:0.9957000000000005\n"
          ],
          "name": "stdout"
        }
      ]
    },
    {
      "cell_type": "markdown",
      "metadata": {
        "id": "dywFAABMa556"
      },
      "source": [
        "Confusion Matrix"
      ]
    },
    {
      "cell_type": "code",
      "metadata": {
        "colab": {
          "base_uri": "https://localhost:8080/",
          "height": 916
        },
        "id": "yjUk3yrLHMgN",
        "outputId": "2c97a7ab-053b-41fb-c1ef-2ca226177c03"
      },
      "source": [
        "cm=conf(model,train_loader,10)\n",
        "cm=cm.cpu().numpy().astype('uint64')\n",
        "plt.figure(figsize=(10,10))\n",
        "plot_confusion_matrix(cm, lst1)"
      ],
      "execution_count": null,
      "outputs": [
        {
          "output_type": "stream",
          "text": [
            "Confusion matrix, without normalization\n",
            "[[5920    0    0    1    0    0    2    0    0    0]\n",
            " [   0 6731    0    0    0    1    3    6    1    0]\n",
            " [   0   10 5938    1    0    0    2    6    1    0]\n",
            " [   1    0    0 6117    0    7    1    2    2    1]\n",
            " [   0    2    0    0 5830    0    1    3    0    6]\n",
            " [   0    0    0    2    0 5413    4    0    1    1]\n",
            " [   2    0    0    0    2    1 5913    0    0    0]\n",
            " [   0    5    1    0    1    0    0 6256    0    2]\n",
            " [   1    1    0    0    1    4    2    1 5837    4]\n",
            " [   0    0    0    1   16    3    0    2    0 5927]]\n"
          ],
          "name": "stdout"
        },
        {
          "output_type": "display_data",
          "data": {
            "image/png": "[encoded data removed]",
            "text/plain": [
              "<Figure size 720x720 with 2 Axes>"
            ]
          },
          "metadata": {
            "tags": []
          }
        }
      ]
    },
    {
      "cell_type": "markdown",
      "metadata": {
        "id": "d53JheNL4v5m"
      },
      "source": [
        "# Run and evaluation of the model with pre-trained weights."
      ]
    },
    {
      "cell_type": "markdown",
      "metadata": {
        "id": "p64CrinYbR8s"
      },
      "source": [
        "Run"
      ]
    },
    {
      "cell_type": "code",
      "metadata": {
        "colab": {
          "base_uri": "https://localhost:8080/"
        },
        "id": "jXESSe1T8s9v",
        "outputId": "c6347f6c-365a-46d5-a93f-0fe6ef238177"
      },
      "source": [
        "run_pre(model,criterion,optimizer,scheduler,'/content/drive/MyDrive/Model_files','task2/BMCNN_part2_pre3',0,100,10,False,1)"
      ],
      "execution_count": null,
      "outputs": [
        {
          "output_type": "stream",
          "text": [
            " Epoch: 0 Iter: 0 Average train loss: 2.4606\n",
            " Epoch: 0 Iter: 1000 Average train loss: 0.9732\n",
            " Epoch: 0 Iter: 2000 Average train loss: 0.7794\n",
            " Epoch: 0 Iter: 3000 Average train loss: 0.6809\n",
            " Epoch: 0 Iter: 0 Average val loss: 0.1013 Acc1: 1.00 Acc3: 1.00 Acc5: 1.00\n",
            "\n",
            "\n",
            "====> After epoch 0 \n",
            "====>Epoch Time: 0m 46s\n",
            "====>Average train loss: 0.6301 \n",
            "====> Average val loss: 0.1604 Acc1: 0.97 Acc3: 1.00 Acc5: 1.00\n",
            "\n",
            "\n",
            " Epoch: 1 Iter: 0 Average train loss: 0.4502\n",
            " Epoch: 1 Iter: 1000 Average train loss: 0.3853\n",
            " Epoch: 1 Iter: 2000 Average train loss: 0.3702\n",
            " Epoch: 1 Iter: 3000 Average train loss: 0.3568\n",
            " Epoch: 1 Iter: 0 Average val loss: 0.0950 Acc1: 1.00 Acc3: 1.00 Acc5: 1.00\n",
            "\n",
            "\n",
            "====> After epoch 1 \n",
            "====>Epoch Time: 0m 44s\n",
            "====>Average train loss: 0.3451 \n",
            "====> Average val loss: 0.0900 Acc1: 0.98 Acc3: 1.00 Acc5: 1.00\n",
            "\n",
            "\n",
            " Epoch: 2 Iter: 0 Average train loss: 0.2567\n",
            " Epoch: 2 Iter: 1000 Average train loss: 0.2933\n",
            " Epoch: 2 Iter: 2000 Average train loss: 0.2823\n",
            " Epoch: 2 Iter: 3000 Average train loss: 0.2750\n",
            " Epoch: 2 Iter: 0 Average val loss: 0.0173 Acc1: 1.00 Acc3: 1.00 Acc5: 1.00\n",
            "\n",
            "\n",
            "====> After epoch 2 \n",
            "====>Epoch Time: 0m 44s\n",
            "====>Average train loss: 0.2701 \n",
            "====> Average val loss: 0.0504 Acc1: 0.99 Acc3: 1.00 Acc5: 1.00\n",
            "\n",
            "\n",
            " Epoch: 3 Iter: 0 Average train loss: 0.2361\n",
            " Epoch: 3 Iter: 1000 Average train loss: 0.2374\n",
            " Epoch: 3 Iter: 2000 Average train loss: 0.2354\n",
            " Epoch: 3 Iter: 3000 Average train loss: 0.2305\n",
            " Epoch: 3 Iter: 0 Average val loss: 0.0081 Acc1: 1.00 Acc3: 1.00 Acc5: 1.00\n",
            "\n",
            "\n",
            "====> After epoch 3 \n",
            "====>Epoch Time: 0m 45s\n",
            "====>Average train loss: 0.2266 \n",
            "====> Average val loss: 0.0462 Acc1: 0.99 Acc3: 1.00 Acc5: 1.00\n",
            "\n",
            "\n",
            " Epoch: 4 Iter: 0 Average train loss: 0.0673\n",
            " Epoch: 4 Iter: 1000 Average train loss: 0.2045\n",
            " Epoch: 4 Iter: 2000 Average train loss: 0.2053\n",
            " Epoch: 4 Iter: 3000 Average train loss: 0.2022\n",
            " Epoch: 4 Iter: 0 Average val loss: 0.0206 Acc1: 1.00 Acc3: 1.00 Acc5: 1.00\n",
            "\n",
            "\n",
            "====> After epoch 4 \n",
            "====>Epoch Time: 0m 45s\n",
            "====>Average train loss: 0.1980 \n",
            "====> Average val loss: 0.0383 Acc1: 0.99 Acc3: 1.00 Acc5: 1.00\n",
            "\n",
            "\n",
            " Epoch: 5 Iter: 0 Average train loss: 0.0656\n",
            " Epoch: 5 Iter: 1000 Average train loss: 0.1873\n",
            " Epoch: 5 Iter: 2000 Average train loss: 0.1849\n",
            " Epoch: 5 Iter: 3000 Average train loss: 0.1821\n",
            " Epoch: 5 Iter: 0 Average val loss: 0.0187 Acc1: 1.00 Acc3: 1.00 Acc5: 1.00\n",
            "\n",
            "\n",
            "====> After epoch 5 \n",
            "====>Epoch Time: 0m 45s\n",
            "====>Average train loss: 0.1808 \n",
            "====> Average val loss: 0.0301 Acc1: 0.99 Acc3: 1.00 Acc5: 1.00\n",
            "\n",
            "\n",
            " Epoch: 6 Iter: 0 Average train loss: 0.0723\n",
            " Epoch: 6 Iter: 1000 Average train loss: 0.1657\n",
            " Epoch: 6 Iter: 2000 Average train loss: 0.1680\n",
            " Epoch: 6 Iter: 3000 Average train loss: 0.1673\n",
            " Epoch: 6 Iter: 0 Average val loss: 0.1116 Acc1: 0.94 Acc3: 1.00 Acc5: 1.00\n",
            "\n",
            "\n",
            "====> After epoch 6 \n",
            "====>Epoch Time: 0m 45s\n",
            "====>Average train loss: 0.1649 \n",
            "====> Average val loss: 0.0261 Acc1: 0.99 Acc3: 1.00 Acc5: 1.00\n",
            "\n",
            "\n",
            " Epoch: 7 Iter: 0 Average train loss: 0.2546\n",
            " Epoch: 7 Iter: 1000 Average train loss: 0.1584\n",
            " Epoch: 7 Iter: 2000 Average train loss: 0.1552\n",
            " Epoch: 7 Iter: 3000 Average train loss: 0.1563\n",
            " Epoch: 7 Iter: 0 Average val loss: 0.0056 Acc1: 1.00 Acc3: 1.00 Acc5: 1.00\n",
            "\n",
            "\n",
            "====> After epoch 7 \n",
            "====>Epoch Time: 0m 45s\n",
            "====>Average train loss: 0.1537 \n",
            "====> Average val loss: 0.0266 Acc1: 0.99 Acc3: 1.00 Acc5: 1.00\n",
            "\n",
            "\n",
            " Epoch: 8 Iter: 0 Average train loss: 0.0921\n",
            " Epoch: 8 Iter: 1000 Average train loss: 0.1493\n",
            " Epoch: 8 Iter: 2000 Average train loss: 0.1471\n",
            " Epoch: 8 Iter: 3000 Average train loss: 0.1451\n",
            " Epoch: 8 Iter: 0 Average val loss: 0.0233 Acc1: 1.00 Acc3: 1.00 Acc5: 1.00\n",
            "\n",
            "\n",
            "====> After epoch 8 \n",
            "====>Epoch Time: 0m 44s\n",
            "====>Average train loss: 0.1442 \n",
            "====> Average val loss: 0.0219 Acc1: 0.99 Acc3: 1.00 Acc5: 1.00\n",
            "\n",
            "\n",
            " Epoch: 9 Iter: 0 Average train loss: 0.0253\n",
            " Epoch: 9 Iter: 1000 Average train loss: 0.1449\n",
            " Epoch: 9 Iter: 2000 Average train loss: 0.1400\n",
            " Epoch: 9 Iter: 3000 Average train loss: 0.1379\n",
            " Epoch: 9 Iter: 0 Average val loss: 0.0301 Acc1: 1.00 Acc3: 1.00 Acc5: 1.00\n",
            "\n",
            "\n",
            "====> After epoch 9 \n",
            "====>Epoch Time: 0m 45s\n",
            "====>Average train loss: 0.1387 \n",
            "====> Average val loss: 0.0225 Acc1: 0.99 Acc3: 1.00 Acc5: 1.00\n",
            "\n",
            "\n",
            "SAVE MODEL to /content/drive/MyDrive/Model_files/task2/BMCNN_part2_pre3/epoch_9.th\n",
            " Epoch: 10 Iter: 0 Average train loss: 0.0350\n",
            " Epoch: 10 Iter: 1000 Average train loss: 0.1255\n",
            " Epoch: 10 Iter: 2000 Average train loss: 0.1294\n",
            " Epoch: 10 Iter: 3000 Average train loss: 0.1305\n",
            " Epoch: 10 Iter: 0 Average val loss: 0.1121 Acc1: 0.94 Acc3: 1.00 Acc5: 1.00\n",
            "\n",
            "\n",
            "====> After epoch 10 \n",
            "====>Epoch Time: 0m 45s\n",
            "====>Average train loss: 0.1307 \n",
            "====> Average val loss: 0.0217 Acc1: 0.99 Acc3: 1.00 Acc5: 1.00\n",
            "\n",
            "\n",
            " Epoch: 11 Iter: 0 Average train loss: 0.0424\n",
            " Epoch: 11 Iter: 1000 Average train loss: 0.1252\n",
            " Epoch: 11 Iter: 2000 Average train loss: 0.1225\n",
            " Epoch: 11 Iter: 3000 Average train loss: 0.1220\n",
            " Epoch: 11 Iter: 0 Average val loss: 0.0142 Acc1: 1.00 Acc3: 1.00 Acc5: 1.00\n",
            "\n",
            "\n",
            "====> After epoch 11 \n",
            "====>Epoch Time: 0m 45s\n",
            "====>Average train loss: 0.1220 \n",
            "====> Average val loss: 0.0231 Acc1: 0.99 Acc3: 1.00 Acc5: 1.00\n",
            "\n",
            "\n",
            " Epoch: 12 Iter: 0 Average train loss: 0.1533\n",
            " Epoch: 12 Iter: 1000 Average train loss: 0.1193\n",
            " Epoch: 12 Iter: 2000 Average train loss: 0.1169\n",
            " Epoch: 12 Iter: 3000 Average train loss: 0.1193\n",
            " Epoch: 12 Iter: 0 Average val loss: 0.0258 Acc1: 1.00 Acc3: 1.00 Acc5: 1.00\n",
            "\n",
            "\n",
            "====> After epoch 12 \n",
            "====>Epoch Time: 0m 45s\n",
            "====>Average train loss: 0.1200 \n",
            "====> Average val loss: 0.0183 Acc1: 0.99 Acc3: 1.00 Acc5: 1.00\n",
            "\n",
            "\n",
            " Epoch: 13 Iter: 0 Average train loss: 0.0177\n",
            " Epoch: 13 Iter: 1000 Average train loss: 0.1149\n",
            " Epoch: 13 Iter: 2000 Average train loss: 0.1154\n",
            " Epoch: 13 Iter: 3000 Average train loss: 0.1161\n",
            " Epoch: 13 Iter: 0 Average val loss: 0.0015 Acc1: 1.00 Acc3: 1.00 Acc5: 1.00\n",
            "\n",
            "\n",
            "====> After epoch 13 \n",
            "====>Epoch Time: 0m 44s\n",
            "====>Average train loss: 0.1146 \n",
            "====> Average val loss: 0.0179 Acc1: 0.99 Acc3: 1.00 Acc5: 1.00\n",
            "\n",
            "\n",
            " Epoch: 14 Iter: 0 Average train loss: 0.0989\n",
            " Epoch: 14 Iter: 1000 Average train loss: 0.1071\n",
            " Epoch: 14 Iter: 2000 Average train loss: 0.1094\n",
            " Epoch: 14 Iter: 3000 Average train loss: 0.1101\n",
            " Epoch: 14 Iter: 0 Average val loss: 0.1808 Acc1: 0.94 Acc3: 1.00 Acc5: 1.00\n",
            "\n",
            "\n",
            "====> After epoch 14 \n",
            "====>Epoch Time: 0m 44s\n",
            "====>Average train loss: 0.1103 \n",
            "====> Average val loss: 0.0171 Acc1: 0.99 Acc3: 1.00 Acc5: 1.00\n",
            "\n",
            "\n",
            " Epoch: 15 Iter: 0 Average train loss: 0.2554\n",
            " Epoch: 15 Iter: 1000 Average train loss: 0.1054\n",
            " Epoch: 15 Iter: 2000 Average train loss: 0.1057\n",
            " Epoch: 15 Iter: 3000 Average train loss: 0.1069\n",
            " Epoch: 15 Iter: 0 Average val loss: 0.0012 Acc1: 1.00 Acc3: 1.00 Acc5: 1.00\n",
            "\n",
            "\n",
            "====> After epoch 15 \n",
            "====>Epoch Time: 0m 44s\n",
            "====>Average train loss: 0.1061 \n",
            "====> Average val loss: 0.0183 Acc1: 0.99 Acc3: 1.00 Acc5: 1.00\n",
            "\n",
            "\n",
            " Epoch: 16 Iter: 0 Average train loss: 0.0810\n",
            " Epoch: 16 Iter: 1000 Average train loss: 0.1021\n",
            " Epoch: 16 Iter: 2000 Average train loss: 0.1007\n",
            " Epoch: 16 Iter: 3000 Average train loss: 0.1008\n",
            " Epoch: 16 Iter: 0 Average val loss: 0.0056 Acc1: 1.00 Acc3: 1.00 Acc5: 1.00\n",
            "\n",
            "\n",
            "====> After epoch 16 \n",
            "====>Epoch Time: 0m 45s\n",
            "====>Average train loss: 0.0999 \n",
            "====> Average val loss: 0.0202 Acc1: 0.99 Acc3: 1.00 Acc5: 1.00\n",
            "\n",
            "\n",
            "Epoch    17: reducing learning rate of group 0 to 5.0000e-05.\n",
            " Epoch: 17 Iter: 0 Average train loss: 0.0544\n",
            " Epoch: 17 Iter: 1000 Average train loss: 0.0980\n",
            " Epoch: 17 Iter: 2000 Average train loss: 0.0970\n",
            " Epoch: 17 Iter: 3000 Average train loss: 0.0955\n",
            " Epoch: 17 Iter: 0 Average val loss: 0.0006 Acc1: 1.00 Acc3: 1.00 Acc5: 1.00\n",
            "\n",
            "\n",
            "====> After epoch 17 \n",
            "====>Epoch Time: 0m 45s\n",
            "====>Average train loss: 0.0939 \n",
            "====> Average val loss: 0.0166 Acc1: 0.99 Acc3: 1.00 Acc5: 1.00\n",
            "\n",
            "\n",
            " Epoch: 18 Iter: 0 Average train loss: 0.2423\n",
            " Epoch: 18 Iter: 1000 Average train loss: 0.0886\n",
            " Epoch: 18 Iter: 2000 Average train loss: 0.0887\n",
            " Epoch: 18 Iter: 3000 Average train loss: 0.0895\n",
            " Epoch: 18 Iter: 0 Average val loss: 0.0022 Acc1: 1.00 Acc3: 1.00 Acc5: 1.00\n",
            "\n",
            "\n",
            "====> After epoch 18 \n",
            "====>Epoch Time: 0m 45s\n",
            "====>Average train loss: 0.0905 \n",
            "====> Average val loss: 0.0154 Acc1: 1.00 Acc3: 1.00 Acc5: 1.00\n",
            "\n",
            "\n",
            " Epoch: 19 Iter: 0 Average train loss: 0.0831\n",
            " Epoch: 19 Iter: 1000 Average train loss: 0.0874\n",
            " Epoch: 19 Iter: 2000 Average train loss: 0.0894\n",
            " Epoch: 19 Iter: 3000 Average train loss: 0.0873\n",
            " Epoch: 19 Iter: 0 Average val loss: 0.0146 Acc1: 1.00 Acc3: 1.00 Acc5: 1.00\n",
            "\n",
            "\n",
            "====> After epoch 19 \n",
            "====>Epoch Time: 0m 44s\n",
            "====>Average train loss: 0.0875 \n",
            "====> Average val loss: 0.0153 Acc1: 1.00 Acc3: 1.00 Acc5: 1.00\n",
            "\n",
            "\n",
            "SAVE MODEL to /content/drive/MyDrive/Model_files/task2/BMCNN_part2_pre3/epoch_19.th\n",
            " Epoch: 20 Iter: 0 Average train loss: 0.0292\n",
            " Epoch: 20 Iter: 1000 Average train loss: 0.0874\n",
            " Epoch: 20 Iter: 2000 Average train loss: 0.0867\n",
            " Epoch: 20 Iter: 3000 Average train loss: 0.0893\n",
            " Epoch: 20 Iter: 0 Average val loss: 0.0005 Acc1: 1.00 Acc3: 1.00 Acc5: 1.00\n",
            "\n",
            "\n",
            "====> After epoch 20 \n",
            "====>Epoch Time: 0m 45s\n",
            "====>Average train loss: 0.0878 \n",
            "====> Average val loss: 0.0157 Acc1: 1.00 Acc3: 1.00 Acc5: 1.00\n",
            "\n",
            "\n",
            " Epoch: 21 Iter: 0 Average train loss: 0.0758\n",
            " Epoch: 21 Iter: 1000 Average train loss: 0.0851\n",
            " Epoch: 21 Iter: 2000 Average train loss: 0.0840\n",
            " Epoch: 21 Iter: 3000 Average train loss: 0.0838\n",
            " Epoch: 21 Iter: 0 Average val loss: 0.0008 Acc1: 1.00 Acc3: 1.00 Acc5: 1.00\n",
            "\n",
            "\n",
            "====> After epoch 21 \n",
            "====>Epoch Time: 0m 44s\n",
            "====>Average train loss: 0.0844 \n",
            "====> Average val loss: 0.0146 Acc1: 1.00 Acc3: 1.00 Acc5: 1.00\n",
            "\n",
            "\n",
            " Epoch: 22 Iter: 0 Average train loss: 0.0874\n",
            " Epoch: 22 Iter: 1000 Average train loss: 0.0806\n",
            " Epoch: 22 Iter: 2000 Average train loss: 0.0833\n",
            " Epoch: 22 Iter: 3000 Average train loss: 0.0833\n",
            " Epoch: 22 Iter: 0 Average val loss: 0.0014 Acc1: 1.00 Acc3: 1.00 Acc5: 1.00\n",
            "\n",
            "\n",
            "====> After epoch 22 \n",
            "====>Epoch Time: 0m 45s\n",
            "====>Average train loss: 0.0835 \n",
            "====> Average val loss: 0.0143 Acc1: 1.00 Acc3: 1.00 Acc5: 1.00\n",
            "\n",
            "\n",
            " Epoch: 23 Iter: 0 Average train loss: 0.0735\n",
            " Epoch: 23 Iter: 1000 Average train loss: 0.0814\n",
            " Epoch: 23 Iter: 2000 Average train loss: 0.0817\n",
            " Epoch: 23 Iter: 3000 Average train loss: 0.0819\n",
            " Epoch: 23 Iter: 0 Average val loss: 0.0008 Acc1: 1.00 Acc3: 1.00 Acc5: 1.00\n",
            "\n",
            "\n",
            "====> After epoch 23 \n",
            "====>Epoch Time: 0m 45s\n",
            "====>Average train loss: 0.0824 \n",
            "====> Average val loss: 0.0154 Acc1: 1.00 Acc3: 1.00 Acc5: 1.00\n",
            "\n",
            "\n",
            " Epoch: 24 Iter: 0 Average train loss: 0.0994\n",
            " Epoch: 24 Iter: 1000 Average train loss: 0.0786\n",
            " Epoch: 24 Iter: 2000 Average train loss: 0.0775\n",
            " Epoch: 24 Iter: 3000 Average train loss: 0.0790\n",
            " Epoch: 24 Iter: 0 Average val loss: 0.0010 Acc1: 1.00 Acc3: 1.00 Acc5: 1.00\n",
            "\n",
            "\n",
            "====> After epoch 24 \n",
            "====>Epoch Time: 0m 44s\n",
            "====>Average train loss: 0.0782 \n",
            "====> Average val loss: 0.0171 Acc1: 1.00 Acc3: 1.00 Acc5: 1.00\n",
            "\n",
            "\n",
            "Epoch    25: reducing learning rate of group 0 to 2.5000e-05.\n",
            " Epoch: 25 Iter: 0 Average train loss: 0.0994\n",
            " Epoch: 25 Iter: 1000 Average train loss: 0.0757\n",
            " Epoch: 25 Iter: 2000 Average train loss: 0.0775\n",
            " Epoch: 25 Iter: 3000 Average train loss: 0.0775\n",
            " Epoch: 25 Iter: 0 Average val loss: 0.1189 Acc1: 0.94 Acc3: 1.00 Acc5: 1.00\n",
            "\n",
            "\n",
            "====> After epoch 25 \n",
            "====>Epoch Time: 0m 45s\n",
            "====>Average train loss: 0.0775 \n",
            "====> Average val loss: 0.0142 Acc1: 1.00 Acc3: 1.00 Acc5: 1.00\n",
            "\n",
            "\n",
            " Epoch: 26 Iter: 0 Average train loss: 0.0725\n",
            " Epoch: 26 Iter: 1000 Average train loss: 0.0728\n",
            " Epoch: 26 Iter: 2000 Average train loss: 0.0736\n",
            " Epoch: 26 Iter: 3000 Average train loss: 0.0740\n",
            " Epoch: 26 Iter: 0 Average val loss: 0.0004 Acc1: 1.00 Acc3: 1.00 Acc5: 1.00\n",
            "\n",
            "\n",
            "====> After epoch 26 \n",
            "====>Epoch Time: 0m 45s\n",
            "====>Average train loss: 0.0748 \n",
            "====> Average val loss: 0.0159 Acc1: 1.00 Acc3: 1.00 Acc5: 1.00\n",
            "\n",
            "\n",
            " Epoch: 27 Iter: 0 Average train loss: 0.2483\n",
            " Epoch: 27 Iter: 1000 Average train loss: 0.0747\n",
            " Epoch: 27 Iter: 2000 Average train loss: 0.0760\n",
            " Epoch: 27 Iter: 3000 Average train loss: 0.0747\n",
            " Epoch: 27 Iter: 0 Average val loss: 0.0010 Acc1: 1.00 Acc3: 1.00 Acc5: 1.00\n",
            "\n",
            "\n",
            "====> After epoch 27 \n",
            "====>Epoch Time: 0m 45s\n",
            "====>Average train loss: 0.0753 \n",
            "====> Average val loss: 0.0136 Acc1: 1.00 Acc3: 1.00 Acc5: 1.00\n",
            "\n",
            "\n",
            " Epoch: 28 Iter: 0 Average train loss: 0.0073\n",
            " Epoch: 28 Iter: 1000 Average train loss: 0.0731\n",
            " Epoch: 28 Iter: 2000 Average train loss: 0.0733\n",
            " Epoch: 28 Iter: 3000 Average train loss: 0.0745\n",
            " Epoch: 28 Iter: 0 Average val loss: 0.0010 Acc1: 1.00 Acc3: 1.00 Acc5: 1.00\n",
            "\n",
            "\n",
            "====> After epoch 28 \n",
            "====>Epoch Time: 0m 45s\n",
            "====>Average train loss: 0.0745 \n",
            "====> Average val loss: 0.0139 Acc1: 1.00 Acc3: 1.00 Acc5: 1.00\n",
            "\n",
            "\n",
            " Epoch: 29 Iter: 0 Average train loss: 0.0152\n",
            " Epoch: 29 Iter: 1000 Average train loss: 0.0705\n",
            " Epoch: 29 Iter: 2000 Average train loss: 0.0713\n",
            " Epoch: 29 Iter: 3000 Average train loss: 0.0717\n",
            " Epoch: 29 Iter: 0 Average val loss: 0.0058 Acc1: 1.00 Acc3: 1.00 Acc5: 1.00\n",
            "\n",
            "\n",
            "====> After epoch 29 \n",
            "====>Epoch Time: 0m 45s\n",
            "====>Average train loss: 0.0732 \n",
            "====> Average val loss: 0.0139 Acc1: 1.00 Acc3: 1.00 Acc5: 1.00\n",
            "\n",
            "\n",
            "Epoch    30: reducing learning rate of group 0 to 1.2500e-05.\n",
            "SAVE MODEL to /content/drive/MyDrive/Model_files/task2/BMCNN_part2_pre3/epoch_29.th\n",
            " Epoch: 30 Iter: 0 Average train loss: 0.0572\n",
            " Epoch: 30 Iter: 1000 Average train loss: 0.0768\n",
            " Epoch: 30 Iter: 2000 Average train loss: 0.0749\n",
            " Epoch: 30 Iter: 3000 Average train loss: 0.0735\n",
            " Epoch: 30 Iter: 0 Average val loss: 0.0013 Acc1: 1.00 Acc3: 1.00 Acc5: 1.00\n",
            "\n",
            "\n",
            "====> After epoch 30 \n",
            "====>Epoch Time: 0m 44s\n",
            "====>Average train loss: 0.0736 \n",
            "====> Average val loss: 0.0133 Acc1: 1.00 Acc3: 1.00 Acc5: 1.00\n",
            "\n",
            "\n",
            " Epoch: 31 Iter: 0 Average train loss: 0.1351\n",
            " Epoch: 31 Iter: 1000 Average train loss: 0.0726\n",
            " Epoch: 31 Iter: 2000 Average train loss: 0.0744\n",
            " Epoch: 31 Iter: 3000 Average train loss: 0.0714\n",
            " Epoch: 31 Iter: 0 Average val loss: 0.0018 Acc1: 1.00 Acc3: 1.00 Acc5: 1.00\n",
            "\n",
            "\n",
            "====> After epoch 31 \n",
            "====>Epoch Time: 0m 45s\n",
            "====>Average train loss: 0.0715 \n",
            "====> Average val loss: 0.0135 Acc1: 1.00 Acc3: 1.00 Acc5: 1.00\n",
            "\n",
            "\n",
            " Epoch: 32 Iter: 0 Average train loss: 0.0335\n",
            " Epoch: 32 Iter: 1000 Average train loss: 0.0723\n",
            " Epoch: 32 Iter: 2000 Average train loss: 0.0694\n",
            " Epoch: 32 Iter: 3000 Average train loss: 0.0683\n",
            " Epoch: 32 Iter: 0 Average val loss: 0.0005 Acc1: 1.00 Acc3: 1.00 Acc5: 1.00\n",
            "\n",
            "\n",
            "====> After epoch 32 \n",
            "====>Epoch Time: 0m 45s\n",
            "====>Average train loss: 0.0690 \n",
            "====> Average val loss: 0.0142 Acc1: 1.00 Acc3: 1.00 Acc5: 1.00\n",
            "\n",
            "\n",
            "Epoch    33: reducing learning rate of group 0 to 6.2500e-06.\n",
            " Epoch: 33 Iter: 0 Average train loss: 0.0263\n",
            " Epoch: 33 Iter: 1000 Average train loss: 0.0709\n",
            " Epoch: 33 Iter: 2000 Average train loss: 0.0713\n",
            " Epoch: 33 Iter: 3000 Average train loss: 0.0706\n",
            " Epoch: 33 Iter: 0 Average val loss: 0.0006 Acc1: 1.00 Acc3: 1.00 Acc5: 1.00\n",
            "\n",
            "\n",
            "====> After epoch 33 \n",
            "====>Epoch Time: 0m 44s\n",
            "====>Average train loss: 0.0697 \n",
            "====> Average val loss: 0.0132 Acc1: 1.00 Acc3: 1.00 Acc5: 1.00\n",
            "\n",
            "\n",
            " Epoch: 34 Iter: 0 Average train loss: 0.0118\n",
            " Epoch: 34 Iter: 1000 Average train loss: 0.0667\n",
            " Epoch: 34 Iter: 2000 Average train loss: 0.0642\n",
            " Epoch: 34 Iter: 3000 Average train loss: 0.0674\n",
            " Epoch: 34 Iter: 0 Average val loss: 0.0007 Acc1: 1.00 Acc3: 1.00 Acc5: 1.00\n",
            "\n",
            "\n",
            "====> After epoch 34 \n",
            "====>Epoch Time: 0m 44s\n",
            "====>Average train loss: 0.0672 \n",
            "====> Average val loss: 0.0134 Acc1: 1.00 Acc3: 1.00 Acc5: 1.00\n",
            "\n",
            "\n",
            " Epoch: 35 Iter: 0 Average train loss: 0.0198\n",
            " Epoch: 35 Iter: 1000 Average train loss: 0.0685\n",
            " Epoch: 35 Iter: 2000 Average train loss: 0.0696\n",
            " Epoch: 35 Iter: 3000 Average train loss: 0.0679\n",
            " Epoch: 35 Iter: 0 Average val loss: 0.0008 Acc1: 1.00 Acc3: 1.00 Acc5: 1.00\n",
            "\n",
            "\n",
            "====> After epoch 35 \n",
            "====>Epoch Time: 0m 45s\n",
            "====>Average train loss: 0.0682 \n",
            "====> Average val loss: 0.0132 Acc1: 1.00 Acc3: 1.00 Acc5: 1.00\n",
            "\n",
            "\n",
            "Epoch    36: reducing learning rate of group 0 to 3.1250e-06.\n",
            " Epoch: 36 Iter: 0 Average train loss: 0.0196\n",
            " Epoch: 36 Iter: 1000 Average train loss: 0.0720\n",
            " Epoch: 36 Iter: 2000 Average train loss: 0.0714\n",
            " Epoch: 36 Iter: 3000 Average train loss: 0.0708\n",
            " Epoch: 36 Iter: 0 Average val loss: 0.0009 Acc1: 1.00 Acc3: 1.00 Acc5: 1.00\n",
            "\n",
            "\n",
            "====> After epoch 36 \n",
            "====>Epoch Time: 0m 44s\n",
            "====>Average train loss: 0.0691 \n",
            "====> Average val loss: 0.0137 Acc1: 1.00 Acc3: 1.00 Acc5: 1.00\n",
            "\n",
            "\n",
            " Epoch: 37 Iter: 0 Average train loss: 0.0402\n",
            " Epoch: 37 Iter: 1000 Average train loss: 0.0632\n",
            " Epoch: 37 Iter: 2000 Average train loss: 0.0661\n",
            " Epoch: 37 Iter: 3000 Average train loss: 0.0669\n",
            " Epoch: 37 Iter: 0 Average val loss: 0.0775 Acc1: 0.94 Acc3: 1.00 Acc5: 1.00\n",
            "\n",
            "\n",
            "====> After epoch 37 \n",
            "====>Epoch Time: 0m 45s\n",
            "====>Average train loss: 0.0672 \n",
            "====> Average val loss: 0.0142 Acc1: 1.00 Acc3: 1.00 Acc5: 1.00\n",
            "\n",
            "\n",
            "SAVE MODEL to /content/drive/MyDrive/Model_files/task2/BMCNN_part2_pre3/epoch_37.th\n"
          ],
          "name": "stdout"
        }
      ]
    },
    {
      "cell_type": "markdown",
      "metadata": {
        "id": "5V3DlbJ2bIEO"
      },
      "source": [
        "Convergence Metrics"
      ]
    },
    {
      "cell_type": "code",
      "metadata": {
        "colab": {
          "base_uri": "https://localhost:8080/"
        },
        "id": "hr2oUTaN8s-E",
        "outputId": "7fceea9a-37d3-4cc8-ee28-edccfb1cde42"
      },
      "source": [
        "print('====> After epoch {} '.format(con.epoch))\n",
        "print('====>conv Time: {}'.format(con.time))\n",
        "#print('====>conv Time: {}'.format(con.time))\n",
        "print('====>Average train loss: {:.4f} +-{:.4f}'.format(\n",
        "                 con.meter.value()[0],con.meter.value()[1]))"
      ],
      "execution_count": null,
      "outputs": [
        {
          "output_type": "stream",
          "text": [
            "====> After epoch 33 \n",
            "====>conv Time: 1534.2143957614899\n",
            "====>Average train loss: 0.0135 +-0.0004\n"
          ],
          "name": "stdout"
        }
      ]
    },
    {
      "cell_type": "markdown",
      "metadata": {
        "id": "XkB-CHdcbE22"
      },
      "source": [
        "Test Accuracy"
      ]
    },
    {
      "cell_type": "code",
      "metadata": {
        "colab": {
          "base_uri": "https://localhost:8080/"
        },
        "id": "B80_aAIj8s-G",
        "outputId": "6c46302d-ae55-4cf4-ff3c-2bf982474506"
      },
      "source": [
        "acc_meter=AverageValueMeter()\n",
        "model.eval()\n",
        "for batch_idx, (data,label) in enumerate(test_loader):\n",
        "    data = data.to(device)\n",
        "    label=label.to(device)\n",
        "    data = data.expand(-1, 3, -1, -1)\n",
        "    output= model(data)\n",
        "    \n",
        "   \n",
        "    r=accuracy_fn(output.data,label.data,(1,3,5))\n",
        "    acc_meter.add(r[0].item())\n",
        "print('Test_accuracy:{}'.format(acc_meter.value()))"
      ],
      "execution_count": null,
      "outputs": [
        {
          "output_type": "stream",
          "text": [
            "Test_accuracy:0.9954999999999997\n"
          ],
          "name": "stdout"
        }
      ]
    },
    {
      "cell_type": "markdown",
      "metadata": {
        "id": "fi24tU_6bB_i"
      },
      "source": [
        "Confusion Matrix"
      ]
    },
    {
      "cell_type": "code",
      "metadata": {
        "id": "FGC3H-SS1-k_"
      },
      "source": [
        "def conf(model,test_loader,n_class):\n",
        "  nb_classes = n_class\n",
        "  model.to(device)\n",
        "  model.eval()\n",
        "  confusion_matrix = torch.zeros(nb_classes, nb_classes)\n",
        "  with torch.no_grad():\n",
        "      for i, (inputs, classes) in enumerate(test_loader):\n",
        "          inputs = inputs.to(device)\n",
        "          inputs=inputs.expand(-1, 3, -1, -1)\n",
        "          classes = classes.to(device)\n",
        "          outputs = model(inputs)\n",
        "          _, preds = torch.max(outputs, 1)\n",
        "          for t, p in zip(classes.view(-1), preds.view(-1)):\n",
        "                  confusion_matrix[t.long(), p.long()] += 1\n",
        "  return confusion_matrix"
      ],
      "execution_count": null,
      "outputs": []
    },
    {
      "cell_type": "code",
      "metadata": {
        "colab": {
          "base_uri": "https://localhost:8080/",
          "height": 916
        },
        "id": "YQMHoysf8s-J",
        "outputId": "ab11790c-48ef-470a-96b9-18d1cb6186cc"
      },
      "source": [
        "cm=conf(model,train_loader,10)\n",
        "cm=cm.cpu().numpy().astype('uint64')\n",
        "plt.figure(figsize=(10,10))\n",
        "plot_confusion_matrix(cm, lst1)"
      ],
      "execution_count": null,
      "outputs": [
        {
          "output_type": "stream",
          "text": [
            "Confusion matrix, without normalization\n",
            "[[5923    0    0    0    0    0    0    0    0    0]\n",
            " [   0 6738    0    0    0    0    0    4    0    0]\n",
            " [   0    1 5955    0    0    0    0    2    0    0]\n",
            " [   0    0    0 6127    0    3    0    0    0    1]\n",
            " [   0    2    0    0 5833    0    0    2    0    5]\n",
            " [   0    0    0    2    0 5418    1    0    0    0]\n",
            " [   1    0    0    0    0    0 5917    0    0    0]\n",
            " [   0    5    0    0    0    0    0 6260    0    0]\n",
            " [   0    0    0    0    0    0    0    0 5849    2]\n",
            " [   0    0    0    0    3    1    0    1    0 5944]]\n"
          ],
          "name": "stdout"
        },
        {
          "output_type": "display_data",
          "data": {
            "image/png": "[encoded data removed]",
            "text/plain": [
              "<Figure size 720x720 with 2 Axes>"
            ]
          },
          "metadata": {
            "tags": []
          }
        }
      ]
    },
    {
      "cell_type": "markdown",
      "metadata": {
        "id": "A8iuHPVHhqaL"
      },
      "source": [
        "# TensorBoard Visualisation"
      ]
    },
    {
      "cell_type": "code",
      "metadata": {
        "id": "4yNmBu055eQ5"
      },
      "source": [
        "%load_ext tensorboard\n",
        "%tensorboard --logdir=runs"
      ],
      "execution_count": null,
      "outputs": []
    }
  ]
}